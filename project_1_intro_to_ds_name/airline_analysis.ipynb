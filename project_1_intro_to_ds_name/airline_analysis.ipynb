{
 "cells": [
  {
   "cell_type": "markdown",
   "id": "7d7c4984-3712-406e-ab82-60cc6a075b1e",
   "metadata": {},
   "source": [
    "# Delay Airline \n",
    "XXX"
   ]
  },
  {
   "cell_type": "markdown",
   "id": "83d6a2df-bd9d-4e2f-94c7-dba2400bab7f",
   "metadata": {},
   "source": [
    "-----"
   ]
  },
  {
   "cell_type": "markdown",
   "id": "8ba94ab7-8e04-4242-b5ba-aa63eb0ca1ae",
   "metadata": {},
   "source": [
    "# 1. Business Understanding"
   ]
  },
  {
   "cell_type": "markdown",
   "id": "b108202e-5a02-45bc-ab43-5d3a566a5540",
   "metadata": {},
   "source": [
    "Delayed airplanes can be a major problem for the economy of the United States for a variety of reasons. Firstly, delays can cause disruptions to the travel plans of individuals and businesses, leading to lost time and productivity. This can be especially problematic for those who rely on air travel for work or have tight schedules to adhere to.\n",
    "\n",
    "Additionally, delays can result in additional costs for both airlines and passengers, such as the need to book new flights or pay for unexpected accommodations. These costs can add up and have a negative impact on the bottom line for both the airline industry and the economy as a whole.\n",
    "\n",
    "Furthermore, delays can lead to decreased customer satisfaction, which can ultimately harm the reputation of the airline industry and discourage people from flying in the future. This can also have a negative impact on the economy, as the airline industry plays a significant role in the transportation sector and contributes to overall economic growth.\n",
    "\n",
    "Overall, the issue of delayed airplanes is a complex and multifaceted problem that can have far-reaching consequences for the economy of the United States.\n"
   ]
  },
  {
   "cell_type": "markdown",
   "id": "7eda044a-2379-41d6-8277-9b418161a10f",
   "metadata": {},
   "source": [
    "-----"
   ]
  },
  {
   "cell_type": "markdown",
   "id": "7d10e87e-ef0f-4439-b95a-7bf9f545f932",
   "metadata": {},
   "source": [
    "# 2. Data Understanding"
   ]
  },
  {
   "cell_type": "code",
   "execution_count": 1,
   "id": "e8ba1f94-1f54-48dc-829c-4a96b75ba341",
   "metadata": {},
   "outputs": [],
   "source": [
    "import matplotlib.pyplot as plt\n",
    "import numpy as np\n",
    "import pandas as pd\n",
    "import seaborn as sns\n",
    "from datetime import time\n",
    "\n",
    "%matplotlib inline"
   ]
  },
  {
   "cell_type": "markdown",
   "id": "f927c714-87a8-4910-b5eb-d184c268bb59",
   "metadata": {},
   "source": [
    "**This data set comes from Kaggle [link](https://www.kaggle.com/datasets/jimschacko/airlines-dataset-to-predict-a-delay?resource=download). The dataset collects about 540k flights within the USA. There are no hints, within which period of time the data was collected.**\n",
    "\n",
    "\n",
    "The following columns are part of the Dataset\n",
    "\n",
    "- **[\"id\"]** : unique id of the row\n",
    "- **[\"Airline\"]** : commercial airline operated the flight\n",
    "- **[\"Flight\"]** :  the type of the aircraft\n",
    "- **[\"AirportFrom\"]** : from where the flight departed\n",
    "- **[\"AirportTo\"]** : the airport where the flight arrived\n",
    "- **[\"DayofWeek\"]** : which day of the week (1:Monday - 7:Sunday)\n",
    "- **[\"Time\"]** : departure time measured in minutes from midnight (in fact the range is 10-1439) [source](https://www.kaggle.com/datasets/jimschacko/airlines-dataset-to-predict-a-delay/discussion/343573?focusReplyOnRender=true#2072803)\n",
    "- **[\"Length\"]** : duration of the flight in minutes [source](https://www.kaggle.com/datasets/jimschacko/airlines-dataset-to-predict-a-delay/discussion/343573?focusReplyOnRender=true#2072803)\n",
    "- **[\"Delay\"]** : whether the flight was delayed or not,binary, 0:not delayed, 1:delayed\n",
    "\n",
    "\n",
    "**Airline Iata Code, Number of flights and Name of Airline**\n",
    "[source](https://www.kaggle.com/datasets/jimschacko/airlines-dataset-to-predict-a-delay/discussion/349138?focusReplyOnRender=true)\n",
    "\n",
    "The IATA codes of the Airlines in this dataset are the following, according to the frequency distribution:\n",
    "\n",
    "**WN** 94,097 - Southwest    \n",
    "**DL** 60,940 - Delta    \n",
    "**OO** 50,254 - Skywest    \n",
    "**AA** 45,656 - American Airlines   \n",
    "**MQ** 36,605 - Envoy     \n",
    "**US** 34,500 - There was a US Airways Express, which now has the symbol OH, and the new name is PSA    \n",
    "**XE** 31,126 - JSX   \n",
    "**EV** 27,983 - ExpressJet    \n",
    "**UA** 27,619 - United Airlines    \n",
    "**CO** 21,118 - There was a Continental Airlines, but now it is part of United Airlines    \n",
    "**FL** 20,827 - There is no code for FL in both the sites accessed    \n",
    "**9E** 20,686 - Endeavor     \n",
    "**B6** 18,112 - Jetblue    \n",
    "**YV** 13,725 - Mesa    \n",
    "**OH** 12,630 - PSA     \n",
    "**AS** 11,471 - Alaska     \n",
    "**F9** 6,456 - Frontier     \n",
    "**HA** 5,578 - Hawaiian    "
   ]
  },
  {
   "cell_type": "code",
   "execution_count": 2,
   "id": "a44771c9-ca53-4a99-958c-07c2cd15ef08",
   "metadata": {},
   "outputs": [],
   "source": [
    "#Read in the input as a dataframe file in the src folder\n",
    "df_flights_raw = pd.read_csv(\"src/Airlines.csv\", index_col=\"id\")\n",
    "\n",
    "#All columns are written in lowercase\n",
    "df_flights_raw.columns = [col.lower() for col in df_flights_raw.columns]"
   ]
  },
  {
   "cell_type": "code",
   "execution_count": 3,
   "id": "b7b88d6b-b476-4f1e-b290-4062afd4d1ae",
   "metadata": {},
   "outputs": [
    {
     "data": {
      "text/plain": [
       "(539383, 8)"
      ]
     },
     "execution_count": 3,
     "metadata": {},
     "output_type": "execute_result"
    }
   ],
   "source": [
    "#Shape of the dataframe\n",
    "df_flights_raw.shape"
   ]
  },
  {
   "cell_type": "code",
   "execution_count": 4,
   "id": "cfcece26-37e0-4509-a9e4-96b50d2ceaa1",
   "metadata": {},
   "outputs": [
    {
     "name": "stdout",
     "output_type": "stream",
     "text": [
      "<class 'pandas.core.frame.DataFrame'>\n",
      "Int64Index: 539383 entries, 1 to 539383\n",
      "Data columns (total 8 columns):\n",
      " #   Column       Non-Null Count   Dtype \n",
      "---  ------       --------------   ----- \n",
      " 0   airline      539383 non-null  object\n",
      " 1   flight       539383 non-null  int64 \n",
      " 2   airportfrom  539383 non-null  object\n",
      " 3   airportto    539383 non-null  object\n",
      " 4   dayofweek    539383 non-null  int64 \n",
      " 5   time         539383 non-null  int64 \n",
      " 6   length       539383 non-null  int64 \n",
      " 7   delay        539383 non-null  int64 \n",
      "dtypes: int64(5), object(3)\n",
      "memory usage: 37.0+ MB\n"
     ]
    }
   ],
   "source": [
    "#General information of the dataset\n",
    "df_flights_raw.info()"
   ]
  },
  {
   "cell_type": "code",
   "execution_count": 5,
   "id": "38e4cb57-3001-4a1a-a55a-7892e5989fb6",
   "metadata": {},
   "outputs": [
    {
     "name": "stdout",
     "output_type": "stream",
     "text": [
      "(539383, 8)\n"
     ]
    }
   ],
   "source": [
    "#Check whether we do have flights with the flight duration of 0 if so drop them\n",
    "df_flights_raw[df_flights_raw[\"length\"]==0]\n",
    "print(df_flights_raw.shape)"
   ]
  },
  {
   "cell_type": "markdown",
   "id": "3c2c301a-2148-40d5-abb5-b5571a259437",
   "metadata": {},
   "source": [
    "**Summary**\n",
    "\n",
    "In total the input data is 539383 rows and 8 columns. Each record is one flight. There are no missing values and no duplicates. To work with the data, there will be some additional features like real time, Weekends, and Lanes"
   ]
  },
  {
   "cell_type": "markdown",
   "id": "0cd54673-3df7-4dc4-9c55-186baa55bb29",
   "metadata": {},
   "source": [
    "------"
   ]
  },
  {
   "cell_type": "markdown",
   "id": "0d880a2d-0538-479e-af2f-0831cb8331e9",
   "metadata": {},
   "source": [
    "# 3. Data Preparation"
   ]
  },
  {
   "cell_type": "markdown",
   "id": "5bcdb788-d454-4d3d-bfc8-485f3b9b2485",
   "metadata": {},
   "source": [
    "**ToDos**\n",
    "\n",
    "A) Add a new column lane, which will use the from airport and the to airport     \n",
    "B) Translated time column in datetime object with correct hour    \n",
    "C) Dummy Variables for AirportFrom and AirportTo     \n",
    "D) Delete rows where the duration of the flight is 0"
   ]
  },
  {
   "cell_type": "markdown",
   "id": "ade892ad-971a-40be-94f5-82119b86a765",
   "metadata": {},
   "source": [
    "A) Add a new Column lane, which will use the from airport and the to airport"
   ]
  },
  {
   "cell_type": "code",
   "execution_count": 6,
   "id": "059bcbc4-77dd-41c2-9c38-3d15587268c8",
   "metadata": {},
   "outputs": [],
   "source": [
    "df_flights_raw[\"lane\"] = df_flights_raw[\"airportfrom\"] + \"-\" + df_flights_raw[\"airportto\"]"
   ]
  },
  {
   "cell_type": "markdown",
   "id": "c51be4f7-8fad-4b1e-ac36-de6ba6cf7750",
   "metadata": {},
   "source": [
    "B) Translated Time Column in datetime object with correct time"
   ]
  },
  {
   "cell_type": "code",
   "execution_count": 7,
   "id": "a080f16b-eff7-4a09-b190-3410014b82c1",
   "metadata": {},
   "outputs": [],
   "source": [
    "#Function to translate the minutes into timestamps\n",
    "def translate_time(timestamp):\n",
    "    a = timestamp\n",
    "    h = a // 60\n",
    "    m = a % 60\n",
    "    dt = time(hour=h, minute=m, second=0, microsecond=0)\n",
    "    dt.isoformat(timespec='auto')\n",
    "    return dt"
   ]
  },
  {
   "cell_type": "code",
   "execution_count": 8,
   "id": "1b515db4-ea30-4564-b6c8-4b66e07f8738",
   "metadata": {},
   "outputs": [],
   "source": [
    "df_flights_raw[\"starttime\"] = df_flights_raw[\"time\"].apply(translate_time)"
   ]
  },
  {
   "cell_type": "code",
   "execution_count": 9,
   "id": "4e593bc1-c743-4580-918f-1e0c21e86eab",
   "metadata": {},
   "outputs": [
    {
     "data": {
      "text/html": [
       "<div>\n",
       "<style scoped>\n",
       "    .dataframe tbody tr th:only-of-type {\n",
       "        vertical-align: middle;\n",
       "    }\n",
       "\n",
       "    .dataframe tbody tr th {\n",
       "        vertical-align: top;\n",
       "    }\n",
       "\n",
       "    .dataframe thead th {\n",
       "        text-align: right;\n",
       "    }\n",
       "</style>\n",
       "<table border=\"1\" class=\"dataframe\">\n",
       "  <thead>\n",
       "    <tr style=\"text-align: right;\">\n",
       "      <th></th>\n",
       "      <th>airline</th>\n",
       "      <th>flight</th>\n",
       "      <th>airportfrom</th>\n",
       "      <th>airportto</th>\n",
       "      <th>dayofweek</th>\n",
       "      <th>time</th>\n",
       "      <th>length</th>\n",
       "      <th>delay</th>\n",
       "      <th>lane</th>\n",
       "      <th>starttime</th>\n",
       "    </tr>\n",
       "    <tr>\n",
       "      <th>id</th>\n",
       "      <th></th>\n",
       "      <th></th>\n",
       "      <th></th>\n",
       "      <th></th>\n",
       "      <th></th>\n",
       "      <th></th>\n",
       "      <th></th>\n",
       "      <th></th>\n",
       "      <th></th>\n",
       "      <th></th>\n",
       "    </tr>\n",
       "  </thead>\n",
       "  <tbody>\n",
       "    <tr>\n",
       "      <th>1</th>\n",
       "      <td>CO</td>\n",
       "      <td>269</td>\n",
       "      <td>SFO</td>\n",
       "      <td>IAH</td>\n",
       "      <td>3</td>\n",
       "      <td>15</td>\n",
       "      <td>205</td>\n",
       "      <td>1</td>\n",
       "      <td>SFO-IAH</td>\n",
       "      <td>00:15:00</td>\n",
       "    </tr>\n",
       "    <tr>\n",
       "      <th>2</th>\n",
       "      <td>US</td>\n",
       "      <td>1558</td>\n",
       "      <td>PHX</td>\n",
       "      <td>CLT</td>\n",
       "      <td>3</td>\n",
       "      <td>15</td>\n",
       "      <td>222</td>\n",
       "      <td>1</td>\n",
       "      <td>PHX-CLT</td>\n",
       "      <td>00:15:00</td>\n",
       "    </tr>\n",
       "    <tr>\n",
       "      <th>3</th>\n",
       "      <td>AA</td>\n",
       "      <td>2400</td>\n",
       "      <td>LAX</td>\n",
       "      <td>DFW</td>\n",
       "      <td>3</td>\n",
       "      <td>20</td>\n",
       "      <td>165</td>\n",
       "      <td>1</td>\n",
       "      <td>LAX-DFW</td>\n",
       "      <td>00:20:00</td>\n",
       "    </tr>\n",
       "    <tr>\n",
       "      <th>4</th>\n",
       "      <td>AA</td>\n",
       "      <td>2466</td>\n",
       "      <td>SFO</td>\n",
       "      <td>DFW</td>\n",
       "      <td>3</td>\n",
       "      <td>20</td>\n",
       "      <td>195</td>\n",
       "      <td>1</td>\n",
       "      <td>SFO-DFW</td>\n",
       "      <td>00:20:00</td>\n",
       "    </tr>\n",
       "    <tr>\n",
       "      <th>5</th>\n",
       "      <td>AS</td>\n",
       "      <td>108</td>\n",
       "      <td>ANC</td>\n",
       "      <td>SEA</td>\n",
       "      <td>3</td>\n",
       "      <td>30</td>\n",
       "      <td>202</td>\n",
       "      <td>0</td>\n",
       "      <td>ANC-SEA</td>\n",
       "      <td>00:30:00</td>\n",
       "    </tr>\n",
       "  </tbody>\n",
       "</table>\n",
       "</div>"
      ],
      "text/plain": [
       "   airline  flight airportfrom airportto  dayofweek  time  length  delay  \\\n",
       "id                                                                         \n",
       "1       CO     269         SFO       IAH          3    15     205      1   \n",
       "2       US    1558         PHX       CLT          3    15     222      1   \n",
       "3       AA    2400         LAX       DFW          3    20     165      1   \n",
       "4       AA    2466         SFO       DFW          3    20     195      1   \n",
       "5       AS     108         ANC       SEA          3    30     202      0   \n",
       "\n",
       "       lane starttime  \n",
       "id                     \n",
       "1   SFO-IAH  00:15:00  \n",
       "2   PHX-CLT  00:15:00  \n",
       "3   LAX-DFW  00:20:00  \n",
       "4   SFO-DFW  00:20:00  \n",
       "5   ANC-SEA  00:30:00  "
      ]
     },
     "execution_count": 9,
     "metadata": {},
     "output_type": "execute_result"
    }
   ],
   "source": [
    "df_flights_raw.head()"
   ]
  },
  {
   "cell_type": "code",
   "execution_count": 10,
   "id": "08a3f471-31a9-47e2-9ca7-e36551b11412",
   "metadata": {},
   "outputs": [
    {
     "data": {
      "text/plain": [
       "datetime.time(10, 0)"
      ]
     },
     "execution_count": 10,
     "metadata": {},
     "output_type": "execute_result"
    }
   ],
   "source": [
    "df_flights_raw[\"starttime\"][5000]"
   ]
  },
  {
   "cell_type": "code",
   "execution_count": 11,
   "id": "ddba55a2-3e28-4cee-ac04-e712b35ec3e5",
   "metadata": {},
   "outputs": [
    {
     "name": "stdout",
     "output_type": "stream",
     "text": [
      "<class 'pandas.core.frame.DataFrame'>\n",
      "Int64Index: 539383 entries, 1 to 539383\n",
      "Data columns (total 10 columns):\n",
      " #   Column       Non-Null Count   Dtype \n",
      "---  ------       --------------   ----- \n",
      " 0   airline      539383 non-null  object\n",
      " 1   flight       539383 non-null  int64 \n",
      " 2   airportfrom  539383 non-null  object\n",
      " 3   airportto    539383 non-null  object\n",
      " 4   dayofweek    539383 non-null  int64 \n",
      " 5   time         539383 non-null  int64 \n",
      " 6   length       539383 non-null  int64 \n",
      " 7   delay        539383 non-null  int64 \n",
      " 8   lane         539383 non-null  object\n",
      " 9   starttime    539383 non-null  object\n",
      "dtypes: int64(5), object(5)\n",
      "memory usage: 61.4+ MB\n"
     ]
    }
   ],
   "source": [
    "df_flights_raw.info()"
   ]
  },
  {
   "cell_type": "markdown",
   "id": "f6eb1ba6-c3ee-4ab4-b9a9-e942ffb74212",
   "metadata": {
    "tags": []
   },
   "source": [
    "C) Dummy Variables for AirportFrom and AirportTo"
   ]
  },
  {
   "cell_type": "code",
   "execution_count": null,
   "id": "02351bda-e02a-4586-8988-a7c3fa90d4d3",
   "metadata": {},
   "outputs": [],
   "source": []
  },
  {
   "cell_type": "markdown",
   "id": "bab5162f-874e-408c-950c-7f4e045ed61e",
   "metadata": {},
   "source": [
    "D) Delete rows where the duration of the flight is 0"
   ]
  },
  {
   "cell_type": "code",
   "execution_count": 12,
   "id": "edca128c-5c37-48fb-beb1-44ca71f66a67",
   "metadata": {},
   "outputs": [
    {
     "name": "stdout",
     "output_type": "stream",
     "text": [
      "(539379, 10)\n"
     ]
    }
   ],
   "source": [
    "df_flights_raw.drop(df_flights_raw[df_flights_raw[\"length\"]==0].index, inplace = True)\n",
    "print(df_flights_raw.shape)"
   ]
  },
  {
   "cell_type": "markdown",
   "id": "dcf65717-9896-4311-827b-3ba32294db2d",
   "metadata": {},
   "source": [
    "# 4. Data Exploration"
   ]
  },
  {
   "cell_type": "code",
   "execution_count": 20,
   "id": "fddadeb7-119f-4b32-a498-7d09d5855a6a",
   "metadata": {},
   "outputs": [],
   "source": [
    "df_flights_clean = df_flights_raw.copy()"
   ]
  },
  {
   "cell_type": "markdown",
   "id": "b83a900b-4543-42a9-b74d-4738223037a3",
   "metadata": {},
   "source": [
    "**Aufgabe 4:** Erstelle ein **FacetGrid**, welches ein **Histogramm** über die Dauer der Flüge pro Airline anzeigt. Dabei sollen nur drei Diagramme pro Zeile angezeigt werden."
   ]
  },
  {
   "cell_type": "code",
   "execution_count": 22,
   "id": "dfbd957d-9746-4706-8a03-f9abac2bf6c6",
   "metadata": {},
   "outputs": [
    {
     "data": {
      "image/png": "[encoded data removed]",
      "text/plain": [
       "<Figure size 864x1080 with 18 Axes>"
      ]
     },
     "metadata": {
      "needs_background": "light"
     },
     "output_type": "display_data"
    }
   ],
   "source": [
    "### LÖSUNG ###\n",
    "g = sns.FacetGrid(data=df_flights_clean, col=\"airline\", col_wrap=4)\n",
    "g.map(plt.hist, \"length\");"
   ]
  },
  {
   "cell_type": "code",
   "execution_count": null,
   "id": "88eb6879-56ce-4160-8a7b-22ea86b8d989",
   "metadata": {
    "tags": []
   },
   "outputs": [],
   "source": []
  },
  {
   "cell_type": "code",
   "execution_count": null,
   "id": "e2680e20-d5b9-4bb5-b7e2-7551a04cfbf4",
   "metadata": {},
   "outputs": [],
   "source": []
  },
  {
   "cell_type": "markdown",
   "id": "f3eafb77-596b-4151-bae2-f893f7da48a8",
   "metadata": {
    "tags": []
   },
   "source": [
    "# 5. Data Modelling"
   ]
  },
  {
   "cell_type": "markdown",
   "id": "a7cd9f33-29b3-437c-82c3-53710d63f95d",
   "metadata": {},
   "source": [
    "1. Which Airlines do have the most % delays?\n",
    "1. Which lanes are mostly delayed?\n",
    "1. Which flight haul types do have the most delays?"
   ]
  },
  {
   "cell_type": "markdown",
   "id": "cb469efd-6fa7-4e29-be09-5d6df4f51837",
   "metadata": {},
   "source": [
    "**Aufgabe 3:** Erstelle ein **Balkendiagramm**, welches die Anzahl der Flüge pro Airline zählt, absteigend sortiert und dabei zwischen verspäteten und pünktlichen Flügen unterscheidet."
   ]
  },
  {
   "cell_type": "markdown",
   "id": "169ccadb-bb46-448e-ac64-4356147f45ed",
   "metadata": {},
   "source": [
    "## 1.  Which Airlines do have the most % delays?"
   ]
  },
  {
   "cell_type": "code",
   "execution_count": 23,
   "id": "1821908f-0d97-41a8-9109-c70a2cd2df0b",
   "metadata": {},
   "outputs": [
    {
     "data": {
      "image/png": "[encoded data removed]",
      "text/plain": [
       "<Figure size 1080x288 with 1 Axes>"
      ]
     },
     "metadata": {
      "needs_background": "light"
     },
     "output_type": "display_data"
    }
   ],
   "source": [
    "### LÖSUNG ###\n",
    "plt.figure(figsize=(15, 4))\n",
    "base_color = sns.color_palette()[0]\n",
    "d = sns.countplot(\n",
    "    x=\"airline\",\n",
    "    data=df_flights_clean,\n",
    "    color=base_color,\n",
    "    order=df_flights_clean[\"airline\"].value_counts().index,\n",
    "    hue=\"delay\",\n",
    ")\n",
    "d.set_ylabel(\"Anzahl Flüge\")\n",
    "d.set_title(\"Pünktliche(0) und Verspätete(1) Flüge\");"
   ]
  },
  {
   "cell_type": "markdown",
   "id": "419fb0d3-7704-4545-a85d-b0b9aee0c987",
   "metadata": {},
   "source": [
    "## 2. Which lanes are mostly delayed?"
   ]
  },
  {
   "cell_type": "markdown",
   "id": "125fabd3-8b14-4e9a-90f1-f363ac059f48",
   "metadata": {},
   "source": [
    "**Wir erstellen ein neues DataFrame mit dem Namen lane_df, welches die Flüge nach den Lanes gruppiert und die Werte aggregiert.**"
   ]
  },
  {
   "cell_type": "code",
   "execution_count": 24,
   "id": "068ecbd8-5c00-400f-89b5-dc211f97714d",
   "metadata": {},
   "outputs": [
    {
     "data": {
      "text/html": [
       "<div>\n",
       "<style scoped>\n",
       "    .dataframe tbody tr th:only-of-type {\n",
       "        vertical-align: middle;\n",
       "    }\n",
       "\n",
       "    .dataframe tbody tr th {\n",
       "        vertical-align: top;\n",
       "    }\n",
       "\n",
       "    .dataframe thead th {\n",
       "        text-align: right;\n",
       "    }\n",
       "</style>\n",
       "<table border=\"1\" class=\"dataframe\">\n",
       "  <thead>\n",
       "    <tr style=\"text-align: right;\">\n",
       "      <th></th>\n",
       "      <th>delay</th>\n",
       "      <th>total</th>\n",
       "      <th>percentage</th>\n",
       "    </tr>\n",
       "    <tr>\n",
       "      <th>lane</th>\n",
       "      <th></th>\n",
       "      <th></th>\n",
       "      <th></th>\n",
       "    </tr>\n",
       "  </thead>\n",
       "  <tbody>\n",
       "    <tr>\n",
       "      <th>ABE-ATL</th>\n",
       "      <td>7</td>\n",
       "      <td>31</td>\n",
       "      <td>22.58</td>\n",
       "    </tr>\n",
       "    <tr>\n",
       "      <th>ABE-CLT</th>\n",
       "      <td>2</td>\n",
       "      <td>31</td>\n",
       "      <td>6.45</td>\n",
       "    </tr>\n",
       "    <tr>\n",
       "      <th>ABE-DTW</th>\n",
       "      <td>40</td>\n",
       "      <td>85</td>\n",
       "      <td>47.06</td>\n",
       "    </tr>\n",
       "    <tr>\n",
       "      <th>ABE-FLL</th>\n",
       "      <td>4</td>\n",
       "      <td>17</td>\n",
       "      <td>23.53</td>\n",
       "    </tr>\n",
       "    <tr>\n",
       "      <th>ABE-MCO</th>\n",
       "      <td>9</td>\n",
       "      <td>31</td>\n",
       "      <td>29.03</td>\n",
       "    </tr>\n",
       "  </tbody>\n",
       "</table>\n",
       "</div>"
      ],
      "text/plain": [
       "         delay  total  percentage\n",
       "lane                             \n",
       "ABE-ATL      7     31       22.58\n",
       "ABE-CLT      2     31        6.45\n",
       "ABE-DTW     40     85       47.06\n",
       "ABE-FLL      4     17       23.53\n",
       "ABE-MCO      9     31       29.03"
      ]
     },
     "execution_count": 24,
     "metadata": {},
     "output_type": "execute_result"
    }
   ],
   "source": [
    "\"\"\"\n",
    "Hier wird ein neuer DataFrame mit dem Namen lane_df erstellt, welches die Flüge nach der \n",
    "Lane gruppiert und sowohl die Anzahl der Delays als auch die Gesamtanzahl summiert\n",
    "\"\"\"\n",
    "lane_df = df_flights_clean.groupby(\"lane\").sum()\n",
    "lane_df[\"total\"] = df_flights_clean.groupby(\"lane\").delay.count()\n",
    "lane_df.drop([\"flight\", \"dayofweek\", \"time\", \"length\"], axis=1, inplace=True)\n",
    "lane_df[\"percentage\"] = np.round((lane_df.delay / lane_df.total) * 100, decimals=2)\n",
    "lane_df.head()"
   ]
  },
  {
   "cell_type": "markdown",
   "id": "e87cd920-fee9-4a11-9a82-881737eb68d9",
   "metadata": {},
   "source": [
    "**Aufgabe 6**: Erstelle ein **Histogramm**, welches die Verteilung der Gesamtanzahl der Flüge gruppiert nach den <code>'Lanes'</code> anzeigt."
   ]
  },
  {
   "cell_type": "code",
   "execution_count": 25,
   "id": "1f246b3e-5de9-4497-a5c6-033df6674ed5",
   "metadata": {},
   "outputs": [
    {
     "data": {
      "image/png": "[encoded data removed]",
      "text/plain": [
       "<Figure size 1080x288 with 1 Axes>"
      ]
     },
     "metadata": {
      "needs_background": "light"
     },
     "output_type": "display_data"
    }
   ],
   "source": [
    "### LÖSUNG ###\n",
    "plt.figure(figsize=(15, 4))\n",
    "d = sns.histplot(lane_df[\"total\"])\n",
    "d.set_xlabel(\"Anzahl Flüge\")\n",
    "d.set_title(\"Histogram Anzahl der Flüge gruppiert nach der Lane\");"
   ]
  },
  {
   "cell_type": "markdown",
   "id": "9ad28b2c-be2d-4465-8e2a-afb54067b105",
   "metadata": {},
   "source": [
    "**Aufgabe 7:** Zeige für die 20 meist geflogenen Lanes die prozentuale Verspätung. Sortiere dabei nach der Anzahl der Flüge. Schreibe die Gesamtanzahl der Flüge in ein Balkendiagramm."
   ]
  },
  {
   "cell_type": "code",
   "execution_count": 17,
   "id": "69fa29f6-af8d-4c37-a495-07470fa23055",
   "metadata": {},
   "outputs": [
    {
     "data": {
      "image/png": "[encoded data removed]",
      "text/plain": [
       "<Figure size 720x576 with 1 Axes>"
      ]
     },
     "metadata": {
      "needs_background": "light"
     },
     "output_type": "display_data"
    }
   ],
   "source": [
    "### LÖSUNG ###\n",
    "top_20 = lane_df.sort_values(by=\"total\", ascending=False)[:20]\n",
    "\n",
    "plt.figure(figsize=(10, 8))\n",
    "base_color = sns.color_palette()[0]\n",
    "d = sns.barplot(\n",
    "    y=top_20.index,\n",
    "    x=\"percentage\",\n",
    "    data=top_20,\n",
    "    color=base_color,\n",
    "    order=top_20.index,\n",
    "    orient=\"h\",\n",
    ")\n",
    "\n",
    "locs, labels = plt.yticks()\n",
    "\n",
    "for loc, labels in zip(locs, labels):\n",
    "    total_flights = top_20.loc[labels.get_text(), \"total\"]\n",
    "\n",
    "    plt.text(\n",
    "        x=0.4,\n",
    "        y=loc,\n",
    "        s=f\"Total flights {total_flights}\",\n",
    "        va=\"center\",\n",
    "        color=\"white\",\n",
    "        fontweight=650,\n",
    "    )\n",
    "\n",
    "d.set_ylabel(\"Lane\")\n",
    "d.set_xlabel(\"Verspätung in %\")\n",
    "d.set_title(\"Prozentuale Verspätung der 20 meist geflogenen Lanes\");"
   ]
  },
  {
   "cell_type": "markdown",
   "id": "ccdc445c-4af5-42cc-bb1c-7a141f8f08f3",
   "metadata": {},
   "source": [
    "## 3. Which flight haul types do have the most delays?"
   ]
  },
  {
   "cell_type": "markdown",
   "id": "c43219d9-8928-4cc6-9968-6ad1d33733fc",
   "metadata": {},
   "source": [
    "According to the IATA (International Air Transport Association) there are different categories of flight durations also called Flight haul types:\n",
    "\n",
    "- **short-haul:** < 3 hours      \n",
    "- **medium-haul:** 3 - 6 hours     \n",
    "- **long-haul:** 6 - 16 hours    \n",
    "- **ultra-long-haul:** > 16 hours    \n"
   ]
  },
  {
   "cell_type": "code",
   "execution_count": 26,
   "id": "33bce1ae-95e9-471d-bac5-7e5ca6231919",
   "metadata": {},
   "outputs": [
    {
     "data": {
      "text/html": [
       "<div>\n",
       "<style scoped>\n",
       "    .dataframe tbody tr th:only-of-type {\n",
       "        vertical-align: middle;\n",
       "    }\n",
       "\n",
       "    .dataframe tbody tr th {\n",
       "        vertical-align: top;\n",
       "    }\n",
       "\n",
       "    .dataframe thead th {\n",
       "        text-align: right;\n",
       "    }\n",
       "</style>\n",
       "<table border=\"1\" class=\"dataframe\">\n",
       "  <thead>\n",
       "    <tr style=\"text-align: right;\">\n",
       "      <th></th>\n",
       "      <th>flight</th>\n",
       "      <th>dayofweek</th>\n",
       "      <th>time</th>\n",
       "      <th>length</th>\n",
       "      <th>delay</th>\n",
       "    </tr>\n",
       "  </thead>\n",
       "  <tbody>\n",
       "    <tr>\n",
       "      <th>count</th>\n",
       "      <td>539379.000000</td>\n",
       "      <td>539379.000000</td>\n",
       "      <td>539379.00000</td>\n",
       "      <td>539379.000000</td>\n",
       "      <td>539379.000000</td>\n",
       "    </tr>\n",
       "    <tr>\n",
       "      <th>mean</th>\n",
       "      <td>2427.945135</td>\n",
       "      <td>3.929649</td>\n",
       "      <td>802.72950</td>\n",
       "      <td>132.202987</td>\n",
       "      <td>0.445444</td>\n",
       "    </tr>\n",
       "    <tr>\n",
       "      <th>std</th>\n",
       "      <td>2067.428568</td>\n",
       "      <td>1.914658</td>\n",
       "      <td>278.04601</td>\n",
       "      <td>70.116351</td>\n",
       "      <td>0.497015</td>\n",
       "    </tr>\n",
       "    <tr>\n",
       "      <th>min</th>\n",
       "      <td>1.000000</td>\n",
       "      <td>1.000000</td>\n",
       "      <td>10.00000</td>\n",
       "      <td>23.000000</td>\n",
       "      <td>0.000000</td>\n",
       "    </tr>\n",
       "    <tr>\n",
       "      <th>25%</th>\n",
       "      <td>712.000000</td>\n",
       "      <td>2.000000</td>\n",
       "      <td>565.00000</td>\n",
       "      <td>81.000000</td>\n",
       "      <td>0.000000</td>\n",
       "    </tr>\n",
       "    <tr>\n",
       "      <th>50%</th>\n",
       "      <td>1809.000000</td>\n",
       "      <td>4.000000</td>\n",
       "      <td>795.00000</td>\n",
       "      <td>115.000000</td>\n",
       "      <td>0.000000</td>\n",
       "    </tr>\n",
       "    <tr>\n",
       "      <th>75%</th>\n",
       "      <td>3745.000000</td>\n",
       "      <td>5.000000</td>\n",
       "      <td>1035.00000</td>\n",
       "      <td>162.000000</td>\n",
       "      <td>1.000000</td>\n",
       "    </tr>\n",
       "    <tr>\n",
       "      <th>max</th>\n",
       "      <td>7814.000000</td>\n",
       "      <td>7.000000</td>\n",
       "      <td>1439.00000</td>\n",
       "      <td>655.000000</td>\n",
       "      <td>1.000000</td>\n",
       "    </tr>\n",
       "  </tbody>\n",
       "</table>\n",
       "</div>"
      ],
      "text/plain": [
       "              flight      dayofweek          time         length  \\\n",
       "count  539379.000000  539379.000000  539379.00000  539379.000000   \n",
       "mean     2427.945135       3.929649     802.72950     132.202987   \n",
       "std      2067.428568       1.914658     278.04601      70.116351   \n",
       "min         1.000000       1.000000      10.00000      23.000000   \n",
       "25%       712.000000       2.000000     565.00000      81.000000   \n",
       "50%      1809.000000       4.000000     795.00000     115.000000   \n",
       "75%      3745.000000       5.000000    1035.00000     162.000000   \n",
       "max      7814.000000       7.000000    1439.00000     655.000000   \n",
       "\n",
       "               delay  \n",
       "count  539379.000000  \n",
       "mean        0.445444  \n",
       "std         0.497015  \n",
       "min         0.000000  \n",
       "25%         0.000000  \n",
       "50%         0.000000  \n",
       "75%         1.000000  \n",
       "max         1.000000  "
      ]
     },
     "execution_count": 26,
     "metadata": {},
     "output_type": "execute_result"
    }
   ],
   "source": [
    "df_flights_clean.describe()"
   ]
  },
  {
   "cell_type": "markdown",
   "id": "758fe37e-e0bd-4d55-9766-e43f9755f1da",
   "metadata": {},
   "source": [
    "# 6. Results"
   ]
  },
  {
   "cell_type": "markdown",
   "id": "0868bff0-38da-4cfb-8d52-fb57b8e9f9b7",
   "metadata": {},
   "source": [
    "**Ab jetzt werden wir mit einem der wohl bekanntesten Datensets arbeiten. Dem Titanitc Dataset [link](https://www.kaggle.com/competitions/titanic/data).**"
   ]
  },
  {
   "cell_type": "code",
   "execution_count": 19,
   "id": "01265ff6-54dd-4662-b6bf-3e0a2a0cfc56",
   "metadata": {},
   "outputs": [
    {
     "ename": "NameError",
     "evalue": "name 'percentage_blocks' is not defined",
     "output_type": "error",
     "traceback": [
      "\u001b[0;31m---------------------------------------------------------------------------\u001b[0m",
      "\u001b[0;31mNameError\u001b[0m                                 Traceback (most recent call last)",
      "\u001b[0;32m/var/folders/95/w_86fg5s0nb6hs527p7t3p100000gn/T/ipykernel_46127/776056758.py\u001b[0m in \u001b[0;36m<module>\u001b[0;34m\u001b[0m\n\u001b[1;32m      1\u001b[0m \u001b[0;31m### LÖSUNG ###\u001b[0m\u001b[0;34m\u001b[0m\u001b[0;34m\u001b[0m\u001b[0m\n\u001b[1;32m      2\u001b[0m \u001b[0mcolumn\u001b[0m \u001b[0;34m=\u001b[0m \u001b[0;34m'Pclass'\u001b[0m\u001b[0;34m\u001b[0m\u001b[0;34m\u001b[0m\u001b[0m\n\u001b[0;32m----> 3\u001b[0;31m \u001b[0mwaffle_counts\u001b[0m \u001b[0;34m=\u001b[0m \u001b[0mpercentage_blocks\u001b[0m\u001b[0;34m(\u001b[0m\u001b[0mtitanic_df\u001b[0m\u001b[0;34m,\u001b[0m \u001b[0mcolumn\u001b[0m\u001b[0;34m)\u001b[0m\u001b[0;34m\u001b[0m\u001b[0;34m\u001b[0m\u001b[0m\n\u001b[0m\u001b[1;32m      4\u001b[0m \u001b[0;34m\u001b[0m\u001b[0m\n\u001b[1;32m      5\u001b[0m \u001b[0mprev_count\u001b[0m \u001b[0;34m=\u001b[0m \u001b[0;36m0\u001b[0m\u001b[0;34m\u001b[0m\u001b[0;34m\u001b[0m\u001b[0m\n",
      "\u001b[0;31mNameError\u001b[0m: name 'percentage_blocks' is not defined"
     ]
    }
   ],
   "source": [
    "### LÖSUNG ###\n",
    "column = 'Pclass'\n",
    "waffle_counts = percentage_blocks(titanic_df, column)\n",
    "\n",
    "prev_count = 0\n",
    "\n",
    "for cat in range(1,waffle_counts.shape[0]+1):\n",
    "    blocks = np.arange(prev_count, prev_count + waffle_counts[cat], 1)\n",
    "    \n",
    "    x = blocks % 10\n",
    "    \n",
    "    y= blocks // 10\n",
    "    \n",
    "    plt.bar(x=x, height=0.8, width=0.8, bottom = y)\n",
    "    prev_count += waffle_counts[cat]\n",
    "\n",
    "\n",
    "plt.legend(waffle_counts.index.sort_values(), bbox_to_anchor=(0.97, 0.93))\n",
    "plt.axis('off')\n",
    "plt.title('Wie viele % der Passagiere waren in den Klassen 1, 2, 3?')\n",
    "plt.axis('square')\n",
    "plt.show()\n"
   ]
  }
 ],
 "metadata": {
  "kernelspec": {
   "display_name": "Python 3 (ipykernel)",
   "language": "python",
   "name": "python3"
  },
  "language_info": {
   "codemirror_mode": {
    "name": "ipython",
    "version": 3
   },
   "file_extension": ".py",
   "mimetype": "text/x-python",
   "name": "python",
   "nbconvert_exporter": "python",
   "pygments_lexer": "ipython3",
   "version": "3.9.7"
  }
 },
 "nbformat": 4,
 "nbformat_minor": 5
}
