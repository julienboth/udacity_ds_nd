{
 "cells": [
  {
   "cell_type": "markdown",
   "id": "7d7c4984-3712-406e-ab82-60cc6a075b1e",
   "metadata": {
    "tags": []
   },
   "source": [
    "# Project 1 - Delayed Flights within the United States\n",
    "**Status**: 17.01.23    \n",
    "This Notebook is an Exploratory Data Analysis to find patterns and insights why and how many flights are delayed in the US. The key research questions are\n",
    "1. Which airlines do have the most delays?\n",
    "1. Which lanes are mostly delayed?\n",
    "1. Which flight haul types do have the most delays?\n",
    "1. Which airports are causing the most delays?\n",
    "\n",
    "Therefore the notebook is structured as follows:\n",
    "1. General Business Understanding\n",
    "1. Data Understanding\n",
    "1. Data Preparation\n",
    "1. Exploratory Data Analysis\n",
    "1. Explainatory Data Analysis\n",
    "1. Results\n",
    "\n",
    "\n",
    "This analysis can be used later as a feature engineering notebook for predicting the delays of flights."
   ]
  },
  {
   "cell_type": "markdown",
   "id": "83d6a2df-bd9d-4e2f-94c7-dba2400bab7f",
   "metadata": {},
   "source": [
    "-----"
   ]
  },
  {
   "cell_type": "markdown",
   "id": "8ba94ab7-8e04-4242-b5ba-aa63eb0ca1ae",
   "metadata": {},
   "source": [
    "# 1. Business Understanding"
   ]
  },
  {
   "cell_type": "markdown",
   "id": "b108202e-5a02-45bc-ab43-5d3a566a5540",
   "metadata": {},
   "source": [
    "Delayed airplanes can be a major problem for the economy of the United States for a variety of reasons. Firstly, delays can cause disruptions to the travel plans of individuals and businesses, leading to lost time and productivity. This can be especially problematic for those who rely on air travel for work or have tight schedules to adhere to.\n",
    "\n",
    "Additionally, delays can result in additional costs for both airlines and passengers, such as the need to book new flights or pay for unexpected accommodations. These costs can add up and have a negative impact on the bottom line for both the airline industry and the economy as a whole.\n",
    "\n",
    "Furthermore, delays can lead to decreased customer satisfaction, which can ultimately harm the reputation of the airline industry and discourage people from flying in the future. This can also have a negative impact on the economy, as the airline industry plays a significant role in the transportation sector and contributes to overall economic growth.\n",
    "\n",
    "Overall, the issue of delayed airplanes is a complex and multifaceted problem that can have far-reaching consequences for the economy of the United States.\n",
    "\n",
    "*This was written by ChatGPT*\n"
   ]
  },
  {
   "cell_type": "markdown",
   "id": "7eda044a-2379-41d6-8277-9b418161a10f",
   "metadata": {},
   "source": [
    "-----"
   ]
  },
  {
   "cell_type": "markdown",
   "id": "7d10e87e-ef0f-4439-b95a-7bf9f545f932",
   "metadata": {
    "tags": []
   },
   "source": [
    "# 2. Data Understanding"
   ]
  },
  {
   "cell_type": "code",
   "execution_count": 1,
   "id": "e8ba1f94-1f54-48dc-829c-4a96b75ba341",
   "metadata": {},
   "outputs": [
    {
     "name": "stdout",
     "output_type": "stream",
     "text": [
      "Matplotlib: 3.6.2\n",
      "Pandas: 1.3.5\n",
      "Numpy: 1.22.0\n",
      "Seaborn: 0.12.1\n"
     ]
    }
   ],
   "source": [
    "import matplotlib\n",
    "import matplotlib.pyplot as plt\n",
    "import numpy as np\n",
    "import pandas as pd\n",
    "import seaborn as sns\n",
    "from datetime import time\n",
    "\n",
    "%matplotlib inline\n",
    "\n",
    "#Package Version\n",
    "print('Matplotlib:',matplotlib.__version__)\n",
    "print('Pandas:',pd.__version__)\n",
    "print('Numpy:',np.__version__)\n",
    "print('Seaborn:',sns.__version__)"
   ]
  },
  {
   "cell_type": "markdown",
   "id": "f927c714-87a8-4910-b5eb-d184c268bb59",
   "metadata": {},
   "source": [
    "**This dataset comes from Kaggle [link](https://www.kaggle.com/datasets/jimschacko/airlines-dataset-to-predict-a-delay?resource=download). The dataset collects about 540k flights within the USA. There are no hints, within which period of time the data was collected.**\n",
    "\n",
    "The following assumptions will be used to work with the dataset:    \n",
    "A. The data is collected for a specific time period (approximately 1 year)    \n",
    "B. The data is complete and is not a subset of bigger dataset\n",
    "\n",
    "\n",
    "The following columns are part of the Dataset\n",
    "\n",
    "- **[\"id\"]** : unique id of the row\n",
    "- **[\"Airline\"]** : commercial airline operated the flight\n",
    "- **[\"Flight\"]** :  the type of the aircraft\n",
    "- **[\"AirportFrom\"]** : from where the flight departed\n",
    "- **[\"AirportTo\"]** : the airport where the flight arrived\n",
    "- **[\"DayofWeek\"]** : which day of the week (1:Monday - 7:Sunday)\n",
    "- **[\"Time\"]** : departure time measured in minutes from midnight (in fact the range is 10-1439) [source](https://www.kaggle.com/datasets/jimschacko/airlines-dataset-to-predict-a-delay/discussion/343573?focusReplyOnRender=true#2072803)\n",
    "- **[\"Length\"]** : duration of the flight in minutes [source](https://www.kaggle.com/datasets/jimschacko/airlines-dataset-to-predict-a-delay/discussion/343573?focusReplyOnRender=true#2072803)\n",
    "- **[\"Delay\"]** : whether the flight was delayed or not,binary, 0:not delayed, 1:delayed\n",
    "\n",
    "\n",
    "**Airline Iata Code, Number of flights and Name of Airline**\n",
    "[source](https://www.kaggle.com/datasets/jimschacko/airlines-dataset-to-predict-a-delay/discussion/349138?focusReplyOnRender=true)\n",
    "\n",
    "The IATA codes of the Airlines in this dataset are the following, according to the frequency distribution:\n",
    "\n",
    "**WN** 94,097 - Southwest    \n",
    "**DL** 60,940 - Delta    \n",
    "**OO** 50,254 - Skywest    \n",
    "**AA** 45,656 - American Airlines   \n",
    "**MQ** 36,605 - Envoy     \n",
    "**US** 34,500 - There was a US Airways Express, which now has the symbol OH, and the new name is PSA    \n",
    "**XE** 31,126 - JSX   \n",
    "**EV** 27,983 - ExpressJet    \n",
    "**UA** 27,619 - United Airlines    \n",
    "**CO** 21,118 - There was a Continental Airlines, but now it is part of United Airlines    \n",
    "**FL** 20,827 - There is no code for FL in both the sites accessed    \n",
    "**9E** 20,686 - Endeavor     \n",
    "**B6** 18,112 - Jetblue    \n",
    "**YV** 13,725 - Mesa    \n",
    "**OH** 12,630 - PSA     \n",
    "**AS** 11,471 - Alaska     \n",
    "**F9** 6,456 - Frontier     \n",
    "**HA** 5,578 - Hawaiian    "
   ]
  },
  {
   "cell_type": "code",
   "execution_count": 2,
   "id": "a44771c9-ca53-4a99-958c-07c2cd15ef08",
   "metadata": {},
   "outputs": [],
   "source": [
    "#Read in the input as a dataframe file in the src folder\n",
    "df_flights_raw = pd.read_csv(\"src/Airlines.csv\", index_col=\"id\")\n",
    "\n",
    "#All columns are written in lowercase\n",
    "df_flights_raw.columns = [col.lower() for col in df_flights_raw.columns]"
   ]
  },
  {
   "cell_type": "code",
   "execution_count": 3,
   "id": "b7b88d6b-b476-4f1e-b290-4062afd4d1ae",
   "metadata": {},
   "outputs": [
    {
     "data": {
      "text/plain": [
       "(539383, 8)"
      ]
     },
     "execution_count": 3,
     "metadata": {},
     "output_type": "execute_result"
    }
   ],
   "source": [
    "#Shape of the dataframe\n",
    "df_flights_raw.shape"
   ]
  },
  {
   "cell_type": "code",
   "execution_count": 4,
   "id": "cfcece26-37e0-4509-a9e4-96b50d2ceaa1",
   "metadata": {},
   "outputs": [
    {
     "name": "stdout",
     "output_type": "stream",
     "text": [
      "<class 'pandas.core.frame.DataFrame'>\n",
      "Int64Index: 539383 entries, 1 to 539383\n",
      "Data columns (total 8 columns):\n",
      " #   Column       Non-Null Count   Dtype \n",
      "---  ------       --------------   ----- \n",
      " 0   airline      539383 non-null  object\n",
      " 1   flight       539383 non-null  int64 \n",
      " 2   airportfrom  539383 non-null  object\n",
      " 3   airportto    539383 non-null  object\n",
      " 4   dayofweek    539383 non-null  int64 \n",
      " 5   time         539383 non-null  int64 \n",
      " 6   length       539383 non-null  int64 \n",
      " 7   delay        539383 non-null  int64 \n",
      "dtypes: int64(5), object(3)\n",
      "memory usage: 37.0+ MB\n"
     ]
    }
   ],
   "source": [
    "#General information of the dataset\n",
    "df_flights_raw.info()"
   ]
  },
  {
   "cell_type": "code",
   "execution_count": 5,
   "id": "38e4cb57-3001-4a1a-a55a-7892e5989fb6",
   "metadata": {},
   "outputs": [
    {
     "data": {
      "text/html": [
       "<div>\n",
       "<style scoped>\n",
       "    .dataframe tbody tr th:only-of-type {\n",
       "        vertical-align: middle;\n",
       "    }\n",
       "\n",
       "    .dataframe tbody tr th {\n",
       "        vertical-align: top;\n",
       "    }\n",
       "\n",
       "    .dataframe thead th {\n",
       "        text-align: right;\n",
       "    }\n",
       "</style>\n",
       "<table border=\"1\" class=\"dataframe\">\n",
       "  <thead>\n",
       "    <tr style=\"text-align: right;\">\n",
       "      <th></th>\n",
       "      <th>airline</th>\n",
       "      <th>flight</th>\n",
       "      <th>airportfrom</th>\n",
       "      <th>airportto</th>\n",
       "      <th>dayofweek</th>\n",
       "      <th>time</th>\n",
       "      <th>length</th>\n",
       "      <th>delay</th>\n",
       "    </tr>\n",
       "    <tr>\n",
       "      <th>id</th>\n",
       "      <th></th>\n",
       "      <th></th>\n",
       "      <th></th>\n",
       "      <th></th>\n",
       "      <th></th>\n",
       "      <th></th>\n",
       "      <th></th>\n",
       "      <th></th>\n",
       "    </tr>\n",
       "  </thead>\n",
       "  <tbody>\n",
       "    <tr>\n",
       "      <th>179150</th>\n",
       "      <td>F9</td>\n",
       "      <td>106</td>\n",
       "      <td>DEN</td>\n",
       "      <td>MSP</td>\n",
       "      <td>6</td>\n",
       "      <td>635</td>\n",
       "      <td>0</td>\n",
       "      <td>0</td>\n",
       "    </tr>\n",
       "    <tr>\n",
       "      <th>182841</th>\n",
       "      <td>F9</td>\n",
       "      <td>107</td>\n",
       "      <td>MSP</td>\n",
       "      <td>DEN</td>\n",
       "      <td>6</td>\n",
       "      <td>851</td>\n",
       "      <td>0</td>\n",
       "      <td>0</td>\n",
       "    </tr>\n",
       "    <tr>\n",
       "      <th>188954</th>\n",
       "      <td>F9</td>\n",
       "      <td>103</td>\n",
       "      <td>MSP</td>\n",
       "      <td>DEN</td>\n",
       "      <td>7</td>\n",
       "      <td>375</td>\n",
       "      <td>0</td>\n",
       "      <td>0</td>\n",
       "    </tr>\n",
       "    <tr>\n",
       "      <th>445579</th>\n",
       "      <td>B6</td>\n",
       "      <td>493</td>\n",
       "      <td>BOS</td>\n",
       "      <td>SEA</td>\n",
       "      <td>7</td>\n",
       "      <td>1060</td>\n",
       "      <td>0</td>\n",
       "      <td>1</td>\n",
       "    </tr>\n",
       "  </tbody>\n",
       "</table>\n",
       "</div>"
      ],
      "text/plain": [
       "       airline  flight airportfrom airportto  dayofweek  time  length  delay\n",
       "id                                                                          \n",
       "179150      F9     106         DEN       MSP          6   635       0      0\n",
       "182841      F9     107         MSP       DEN          6   851       0      0\n",
       "188954      F9     103         MSP       DEN          7   375       0      0\n",
       "445579      B6     493         BOS       SEA          7  1060       0      1"
      ]
     },
     "execution_count": 5,
     "metadata": {},
     "output_type": "execute_result"
    }
   ],
   "source": [
    "#Check whether we do have flights with the flight duration of 0 if so drop them\n",
    "df_flights_raw[df_flights_raw[\"length\"]==0]"
   ]
  },
  {
   "cell_type": "markdown",
   "id": "3c2c301a-2148-40d5-abb5-b5571a259437",
   "metadata": {},
   "source": [
    "**Summary**\n",
    "\n",
    "In total the input data has a size 539.383 rows and 8 columns. Each record is one flight. There are no missing values and no duplicates. But there are 4 flights which have a flight duration of 0 minutes. This could be because the flight was cancelled before it started or these entries are somehow corrputed. To answer the following three research questions\n",
    "1) Which Airlines do have the most delays?\n",
    "1) Which lanes are lostly delayed?\n",
    "3) Which flight haul types do have the most delays?\n",
    "\n",
    "\n",
    "We need to prepare the data and create some new features like  time, Weekends, and Lanes"
   ]
  },
  {
   "cell_type": "markdown",
   "id": "0cd54673-3df7-4dc4-9c55-186baa55bb29",
   "metadata": {},
   "source": [
    "------"
   ]
  },
  {
   "cell_type": "markdown",
   "id": "0d880a2d-0538-479e-af2f-0831cb8331e9",
   "metadata": {},
   "source": [
    "# 3. Data Preparation"
   ]
  },
  {
   "cell_type": "markdown",
   "id": "5bcdb788-d454-4d3d-bfc8-485f3b9b2485",
   "metadata": {},
   "source": [
    "**ToDos**\n",
    "\n",
    "A) Add a new column lane, which will use the from airport and the to airport     \n",
    "B) Translated time column in datetime object with correct hour    \n",
    "C) Delete rows where the duration of the flight is 0"
   ]
  },
  {
   "cell_type": "markdown",
   "id": "ade892ad-971a-40be-94f5-82119b86a765",
   "metadata": {},
   "source": [
    "A) Add a new Column lane, which will use the from airport and the to airport"
   ]
  },
  {
   "cell_type": "code",
   "execution_count": 6,
   "id": "059bcbc4-77dd-41c2-9c38-3d15587268c8",
   "metadata": {},
   "outputs": [],
   "source": [
    "df_flights_raw[\"lane\"] = df_flights_raw[\"airportfrom\"] + \"-\" + df_flights_raw[\"airportto\"]"
   ]
  },
  {
   "cell_type": "markdown",
   "id": "c51be4f7-8fad-4b1e-ac36-de6ba6cf7750",
   "metadata": {},
   "source": [
    "B) Translated Time Column in datetime object with correct time"
   ]
  },
  {
   "cell_type": "code",
   "execution_count": 7,
   "id": "a080f16b-eff7-4a09-b190-3410014b82c1",
   "metadata": {},
   "outputs": [],
   "source": [
    "#Function to translate the minutes into timestamps\n",
    "def translate_time(timestamp):\n",
    "    a = timestamp\n",
    "    h = a // 60\n",
    "    m = a % 60\n",
    "    dt = time(hour=h, minute=m, second=0, microsecond=0)\n",
    "    dt.isoformat(timespec='auto')\n",
    "    return dt"
   ]
  },
  {
   "cell_type": "code",
   "execution_count": 8,
   "id": "1b515db4-ea30-4564-b6c8-4b66e07f8738",
   "metadata": {},
   "outputs": [],
   "source": [
    "df_flights_raw[\"starttime\"] = df_flights_raw[\"time\"].apply(translate_time)"
   ]
  },
  {
   "cell_type": "code",
   "execution_count": 9,
   "id": "4e593bc1-c743-4580-918f-1e0c21e86eab",
   "metadata": {},
   "outputs": [
    {
     "data": {
      "text/html": [
       "<div>\n",
       "<style scoped>\n",
       "    .dataframe tbody tr th:only-of-type {\n",
       "        vertical-align: middle;\n",
       "    }\n",
       "\n",
       "    .dataframe tbody tr th {\n",
       "        vertical-align: top;\n",
       "    }\n",
       "\n",
       "    .dataframe thead th {\n",
       "        text-align: right;\n",
       "    }\n",
       "</style>\n",
       "<table border=\"1\" class=\"dataframe\">\n",
       "  <thead>\n",
       "    <tr style=\"text-align: right;\">\n",
       "      <th></th>\n",
       "      <th>airline</th>\n",
       "      <th>flight</th>\n",
       "      <th>airportfrom</th>\n",
       "      <th>airportto</th>\n",
       "      <th>dayofweek</th>\n",
       "      <th>time</th>\n",
       "      <th>length</th>\n",
       "      <th>delay</th>\n",
       "      <th>lane</th>\n",
       "      <th>starttime</th>\n",
       "    </tr>\n",
       "    <tr>\n",
       "      <th>id</th>\n",
       "      <th></th>\n",
       "      <th></th>\n",
       "      <th></th>\n",
       "      <th></th>\n",
       "      <th></th>\n",
       "      <th></th>\n",
       "      <th></th>\n",
       "      <th></th>\n",
       "      <th></th>\n",
       "      <th></th>\n",
       "    </tr>\n",
       "  </thead>\n",
       "  <tbody>\n",
       "    <tr>\n",
       "      <th>1</th>\n",
       "      <td>CO</td>\n",
       "      <td>269</td>\n",
       "      <td>SFO</td>\n",
       "      <td>IAH</td>\n",
       "      <td>3</td>\n",
       "      <td>15</td>\n",
       "      <td>205</td>\n",
       "      <td>1</td>\n",
       "      <td>SFO-IAH</td>\n",
       "      <td>00:15:00</td>\n",
       "    </tr>\n",
       "    <tr>\n",
       "      <th>2</th>\n",
       "      <td>US</td>\n",
       "      <td>1558</td>\n",
       "      <td>PHX</td>\n",
       "      <td>CLT</td>\n",
       "      <td>3</td>\n",
       "      <td>15</td>\n",
       "      <td>222</td>\n",
       "      <td>1</td>\n",
       "      <td>PHX-CLT</td>\n",
       "      <td>00:15:00</td>\n",
       "    </tr>\n",
       "    <tr>\n",
       "      <th>3</th>\n",
       "      <td>AA</td>\n",
       "      <td>2400</td>\n",
       "      <td>LAX</td>\n",
       "      <td>DFW</td>\n",
       "      <td>3</td>\n",
       "      <td>20</td>\n",
       "      <td>165</td>\n",
       "      <td>1</td>\n",
       "      <td>LAX-DFW</td>\n",
       "      <td>00:20:00</td>\n",
       "    </tr>\n",
       "    <tr>\n",
       "      <th>4</th>\n",
       "      <td>AA</td>\n",
       "      <td>2466</td>\n",
       "      <td>SFO</td>\n",
       "      <td>DFW</td>\n",
       "      <td>3</td>\n",
       "      <td>20</td>\n",
       "      <td>195</td>\n",
       "      <td>1</td>\n",
       "      <td>SFO-DFW</td>\n",
       "      <td>00:20:00</td>\n",
       "    </tr>\n",
       "    <tr>\n",
       "      <th>5</th>\n",
       "      <td>AS</td>\n",
       "      <td>108</td>\n",
       "      <td>ANC</td>\n",
       "      <td>SEA</td>\n",
       "      <td>3</td>\n",
       "      <td>30</td>\n",
       "      <td>202</td>\n",
       "      <td>0</td>\n",
       "      <td>ANC-SEA</td>\n",
       "      <td>00:30:00</td>\n",
       "    </tr>\n",
       "  </tbody>\n",
       "</table>\n",
       "</div>"
      ],
      "text/plain": [
       "   airline  flight airportfrom airportto  dayofweek  time  length  delay  \\\n",
       "id                                                                         \n",
       "1       CO     269         SFO       IAH          3    15     205      1   \n",
       "2       US    1558         PHX       CLT          3    15     222      1   \n",
       "3       AA    2400         LAX       DFW          3    20     165      1   \n",
       "4       AA    2466         SFO       DFW          3    20     195      1   \n",
       "5       AS     108         ANC       SEA          3    30     202      0   \n",
       "\n",
       "       lane starttime  \n",
       "id                     \n",
       "1   SFO-IAH  00:15:00  \n",
       "2   PHX-CLT  00:15:00  \n",
       "3   LAX-DFW  00:20:00  \n",
       "4   SFO-DFW  00:20:00  \n",
       "5   ANC-SEA  00:30:00  "
      ]
     },
     "execution_count": 9,
     "metadata": {},
     "output_type": "execute_result"
    }
   ],
   "source": [
    "df_flights_raw.head()"
   ]
  },
  {
   "cell_type": "code",
   "execution_count": 10,
   "id": "ddba55a2-3e28-4cee-ac04-e712b35ec3e5",
   "metadata": {},
   "outputs": [
    {
     "name": "stdout",
     "output_type": "stream",
     "text": [
      "<class 'pandas.core.frame.DataFrame'>\n",
      "Int64Index: 539383 entries, 1 to 539383\n",
      "Data columns (total 10 columns):\n",
      " #   Column       Non-Null Count   Dtype \n",
      "---  ------       --------------   ----- \n",
      " 0   airline      539383 non-null  object\n",
      " 1   flight       539383 non-null  int64 \n",
      " 2   airportfrom  539383 non-null  object\n",
      " 3   airportto    539383 non-null  object\n",
      " 4   dayofweek    539383 non-null  int64 \n",
      " 5   time         539383 non-null  int64 \n",
      " 6   length       539383 non-null  int64 \n",
      " 7   delay        539383 non-null  int64 \n",
      " 8   lane         539383 non-null  object\n",
      " 9   starttime    539383 non-null  object\n",
      "dtypes: int64(5), object(5)\n",
      "memory usage: 45.3+ MB\n"
     ]
    }
   ],
   "source": [
    "df_flights_raw.info()"
   ]
  },
  {
   "cell_type": "markdown",
   "id": "bab5162f-874e-408c-950c-7f4e045ed61e",
   "metadata": {},
   "source": [
    "C) Delete rows where the duration of the flight is 0"
   ]
  },
  {
   "cell_type": "code",
   "execution_count": 11,
   "id": "edca128c-5c37-48fb-beb1-44ca71f66a67",
   "metadata": {},
   "outputs": [
    {
     "name": "stdout",
     "output_type": "stream",
     "text": [
      "(539379, 10)\n"
     ]
    }
   ],
   "source": [
    "df_flights_raw.drop(df_flights_raw[df_flights_raw[\"length\"]==0].index, inplace = True)\n",
    "print(df_flights_raw.shape)"
   ]
  },
  {
   "cell_type": "markdown",
   "id": "dcf65717-9896-4311-827b-3ba32294db2d",
   "metadata": {},
   "source": [
    "# 4. Exploratory Data Analysis"
   ]
  },
  {
   "cell_type": "code",
   "execution_count": 12,
   "id": "fddadeb7-119f-4b32-a498-7d09d5855a6a",
   "metadata": {},
   "outputs": [],
   "source": [
    "df_flights_clean = df_flights_raw.copy()"
   ]
  },
  {
   "cell_type": "code",
   "execution_count": 13,
   "id": "dfbd957d-9746-4706-8a03-f9abac2bf6c6",
   "metadata": {},
   "outputs": [
    {
     "data": {
      "image/png": "[encoded data removed]",
      "text/plain": [
       "<Figure size 864x1080 with 18 Axes>"
      ]
     },
     "metadata": {
      "needs_background": "light"
     },
     "output_type": "display_data"
    }
   ],
   "source": [
    "### Creating a FacetGrid to show the histogram of the duration of the flights per airline\n",
    "g = sns.FacetGrid(data=df_flights_clean, col=\"airline\", col_wrap=4)\n",
    "g.map(plt.hist, \"length\");"
   ]
  },
  {
   "cell_type": "markdown",
   "id": "f3eafb77-596b-4151-bae2-f893f7da48a8",
   "metadata": {
    "tags": []
   },
   "source": [
    "# 5. Explainatory Data Analysis"
   ]
  },
  {
   "cell_type": "markdown",
   "id": "a7cd9f33-29b3-437c-82c3-53710d63f95d",
   "metadata": {},
   "source": [
    "1. **Which Airlines do have the most % delays?**\n",
    "1. **Which lanes are mostly delayed?**\n",
    "1. **Which flight haul types do have the most delays?**\n",
    "1. **Which airports are causing the most delays?**"
   ]
  },
  {
   "cell_type": "markdown",
   "id": "169ccadb-bb46-448e-ac64-4356147f45ed",
   "metadata": {},
   "source": [
    "## 1.  Which Airlines do have the most delays?"
   ]
  },
  {
   "cell_type": "code",
   "execution_count": 14,
   "id": "1821908f-0d97-41a8-9109-c70a2cd2df0b",
   "metadata": {},
   "outputs": [
    {
     "data": {
      "image/png": "[encoded data removed]",
      "text/plain": [
       "<Figure size 1080x576 with 1 Axes>"
      ]
     },
     "metadata": {
      "needs_background": "light"
     },
     "output_type": "display_data"
    }
   ],
   "source": [
    "### Basic countplot ###\n",
    "'''\n",
    "Illustrating the flights per airline and whether it is to late or not\n",
    "'''\n",
    "plt.figure(figsize=(15, 8), layout=\"tight\")\n",
    "base_color = sns.color_palette()[0]\n",
    "d = sns.countplot(\n",
    "    x=\"airline\",\n",
    "    data=df_flights_clean,\n",
    "    color=base_color,\n",
    "    order=df_flights_clean[\"airline\"].value_counts().index,\n",
    "    hue=\"delay\",\n",
    ")\n",
    "plt.xlabel(\"Airlines\",fontsize=16)\n",
    "plt.ylabel(\"Amount of flights\",fontsize=16)\n",
    "plt.xticks(fontsize=12)\n",
    "plt.yticks(fontsize=12)\n",
    "d.set_title(\"On time (gray) und delayed (blue) flights\", fontsize=16);\n",
    "\n",
    "\n",
    "#New Dataframe to calculate the delayed percentage per airline\n",
    "airline_delay_percentage = df_flights_clean.groupby(\"airline\").sum()\n",
    "airline_delay_percentage[\"total\"] = df_flights_clean.groupby(\"airline\").delay.count()\n",
    "airline_delay_percentage.drop([\"flight\", \"dayofweek\", \"time\", \"length\"], axis=1, inplace=True)\n",
    "airline_delay_percentage[\"percentage\"] = np.round((airline_delay_percentage.delay / airline_delay_percentage.total) * 100, decimals=0)\n",
    "\n",
    "\n",
    "\n",
    "#Creating the annotation for each delayed bar of the diagram to incorporate the percentage delay per airline\n",
    "locs, labels = plt.xticks()\n",
    "for loc, label in zip(locs, labels):\n",
    "    airline_delay_percentage_txt = airline_delay_percentage.loc[label._text, \"percentage\"]\n",
    "    \n",
    "    if loc == 0 :\n",
    "        plt.text(\n",
    "            x=loc,\n",
    "            y=(airline_delay_percentage.loc[label._text, \"delay\"]) +1500,\n",
    "            s=f\"{int(airline_delay_percentage_txt)}% of the overall flights of {label._text} are delayed\",\n",
    "            va=\"center\",\n",
    "            color=\"black\",\n",
    "            fontweight=600,\n",
    "            fontsize=\"large\"\n",
    "        )\n",
    "    else:\n",
    "        plt.text(\n",
    "            x=loc,\n",
    "            y=(airline_delay_percentage.loc[label._text, \"delay\"]) +1500,\n",
    "            s=f\"{int(airline_delay_percentage_txt)}%\",\n",
    "            va=\"center\",\n",
    "            color=\"black\",\n",
    "            fontsize=\"large\"\n",
    "        )\n",
    "plt.savefig(\"picture/airline_delays.png\", dpi=360)"
   ]
  },
  {
   "cell_type": "markdown",
   "id": "8271ccd6-0455-48fc-bae1-f7bf4af630cd",
   "metadata": {},
   "source": [
    "**INSIGHT:**  \n",
    "\n",
    "Two out of 18 airlines within the US do have a higher chance to be delayed than to be on point. Southwest airlines (70% delayed) and Continental Airlines (57% delayed). For 15 airlines more than 25% of the flights are delayed."
   ]
  },
  {
   "cell_type": "markdown",
   "id": "419fb0d3-7704-4545-a85d-b0b9aee0c987",
   "metadata": {},
   "source": [
    "## 2. Which lanes are mostly delayed?"
   ]
  },
  {
   "cell_type": "code",
   "execution_count": 15,
   "id": "068ecbd8-5c00-400f-89b5-dc211f97714d",
   "metadata": {},
   "outputs": [
    {
     "data": {
      "text/html": [
       "<div>\n",
       "<style scoped>\n",
       "    .dataframe tbody tr th:only-of-type {\n",
       "        vertical-align: middle;\n",
       "    }\n",
       "\n",
       "    .dataframe tbody tr th {\n",
       "        vertical-align: top;\n",
       "    }\n",
       "\n",
       "    .dataframe thead th {\n",
       "        text-align: right;\n",
       "    }\n",
       "</style>\n",
       "<table border=\"1\" class=\"dataframe\">\n",
       "  <thead>\n",
       "    <tr style=\"text-align: right;\">\n",
       "      <th></th>\n",
       "      <th>delay</th>\n",
       "      <th>total</th>\n",
       "      <th>percentage</th>\n",
       "    </tr>\n",
       "    <tr>\n",
       "      <th>lane</th>\n",
       "      <th></th>\n",
       "      <th></th>\n",
       "      <th></th>\n",
       "    </tr>\n",
       "  </thead>\n",
       "  <tbody>\n",
       "    <tr>\n",
       "      <th>ABE-ATL</th>\n",
       "      <td>7</td>\n",
       "      <td>31</td>\n",
       "      <td>22.58</td>\n",
       "    </tr>\n",
       "    <tr>\n",
       "      <th>ABE-CLT</th>\n",
       "      <td>2</td>\n",
       "      <td>31</td>\n",
       "      <td>6.45</td>\n",
       "    </tr>\n",
       "    <tr>\n",
       "      <th>ABE-DTW</th>\n",
       "      <td>40</td>\n",
       "      <td>85</td>\n",
       "      <td>47.06</td>\n",
       "    </tr>\n",
       "    <tr>\n",
       "      <th>ABE-FLL</th>\n",
       "      <td>4</td>\n",
       "      <td>17</td>\n",
       "      <td>23.53</td>\n",
       "    </tr>\n",
       "    <tr>\n",
       "      <th>ABE-MCO</th>\n",
       "      <td>9</td>\n",
       "      <td>31</td>\n",
       "      <td>29.03</td>\n",
       "    </tr>\n",
       "  </tbody>\n",
       "</table>\n",
       "</div>"
      ],
      "text/plain": [
       "         delay  total  percentage\n",
       "lane                             \n",
       "ABE-ATL      7     31       22.58\n",
       "ABE-CLT      2     31        6.45\n",
       "ABE-DTW     40     85       47.06\n",
       "ABE-FLL      4     17       23.53\n",
       "ABE-MCO      9     31       29.03"
      ]
     },
     "execution_count": 15,
     "metadata": {},
     "output_type": "execute_result"
    }
   ],
   "source": [
    "\"\"\"\n",
    "Creating a new dataframe with the name lane_df, which groups the flights according to \n",
    "there lane and adds up the amount of delays and the total number of flights\n",
    "\"\"\"\n",
    "lane_df = df_flights_clean.groupby(\"lane\").sum()\n",
    "lane_df[\"total\"] = df_flights_clean.groupby(\"lane\").delay.count()\n",
    "lane_df.drop([\"flight\", \"dayofweek\", \"time\", \"length\"], axis=1, inplace=True)\n",
    "lane_df[\"percentage\"] = np.round((lane_df.delay / lane_df.total) * 100, decimals=2)\n",
    "lane_df.head()"
   ]
  },
  {
   "cell_type": "code",
   "execution_count": 16,
   "id": "7a728cfc-67fc-407e-953d-4f1b7e7f6d4d",
   "metadata": {},
   "outputs": [
    {
     "data": {
      "text/plain": [
       "4190"
      ]
     },
     "execution_count": 16,
     "metadata": {},
     "output_type": "execute_result"
    }
   ],
   "source": [
    "#Amount of lanes\n",
    "len(lane_df.index)"
   ]
  },
  {
   "cell_type": "markdown",
   "id": "e87cd920-fee9-4a11-9a82-881737eb68d9",
   "metadata": {},
   "source": [
    "Creating a **histogram**, to show the distribution of the <code>'lanes'</code>."
   ]
  },
  {
   "cell_type": "code",
   "execution_count": 17,
   "id": "1f246b3e-5de9-4497-a5c6-033df6674ed5",
   "metadata": {},
   "outputs": [
    {
     "data": {
      "image/png": "[encoded data removed]",
      "text/plain": [
       "<Figure size 1080x288 with 1 Axes>"
      ]
     },
     "metadata": {
      "needs_background": "light"
     },
     "output_type": "display_data"
    }
   ],
   "source": [
    "### Histogram of the lanes ###\n",
    "plt.figure(figsize=(15, 4))\n",
    "d = sns.histplot(lane_df[\"total\"])\n",
    "d.set_xlabel(\"Amount of flights\")\n",
    "d.set_title(\"Histogram amount of flights grouped by lane\");"
   ]
  },
  {
   "cell_type": "code",
   "execution_count": 18,
   "id": "b1ef7334-9cef-41b5-81ba-9d2f083516bd",
   "metadata": {},
   "outputs": [
    {
     "name": "stdout",
     "output_type": "stream",
     "text": [
      "Amount of lanes 1 flight per day: 221\n",
      "Amount of lanes 2 flight per day: 26\n",
      "Amount of lanes 3 flight per day: 0\n"
     ]
    }
   ],
   "source": [
    "print(\"Amount of lanes 1 flight per day:\", len(lane_df[lane_df[\"total\"]>=365]))\n",
    "print(\"Amount of lanes 2 flight per day:\", len(lane_df[lane_df[\"total\"]>=365*2]))\n",
    "print(\"Amount of lanes 3 flight per day:\", len(lane_df[lane_df[\"total\"]>=365*3]))"
   ]
  },
  {
   "cell_type": "code",
   "execution_count": 19,
   "id": "6a31cbe2-feb9-40ae-8052-ea74755cc08b",
   "metadata": {},
   "outputs": [
    {
     "data": {
      "text/html": [
       "<div>\n",
       "<style scoped>\n",
       "    .dataframe tbody tr th:only-of-type {\n",
       "        vertical-align: middle;\n",
       "    }\n",
       "\n",
       "    .dataframe tbody tr th {\n",
       "        vertical-align: top;\n",
       "    }\n",
       "\n",
       "    .dataframe thead th {\n",
       "        text-align: right;\n",
       "    }\n",
       "</style>\n",
       "<table border=\"1\" class=\"dataframe\">\n",
       "  <thead>\n",
       "    <tr style=\"text-align: right;\">\n",
       "      <th></th>\n",
       "      <th>delay</th>\n",
       "      <th>total</th>\n",
       "      <th>percentage</th>\n",
       "    </tr>\n",
       "  </thead>\n",
       "  <tbody>\n",
       "    <tr>\n",
       "      <th>count</th>\n",
       "      <td>4190.000000</td>\n",
       "      <td>4190.000000</td>\n",
       "      <td>4190.000000</td>\n",
       "    </tr>\n",
       "    <tr>\n",
       "      <th>mean</th>\n",
       "      <td>57.342005</td>\n",
       "      <td>128.730072</td>\n",
       "      <td>44.469554</td>\n",
       "    </tr>\n",
       "    <tr>\n",
       "      <th>std</th>\n",
       "      <td>60.504864</td>\n",
       "      <td>127.851366</td>\n",
       "      <td>18.168777</td>\n",
       "    </tr>\n",
       "    <tr>\n",
       "      <th>min</th>\n",
       "      <td>0.000000</td>\n",
       "      <td>1.000000</td>\n",
       "      <td>0.000000</td>\n",
       "    </tr>\n",
       "    <tr>\n",
       "      <th>25%</th>\n",
       "      <td>19.000000</td>\n",
       "      <td>48.000000</td>\n",
       "      <td>32.182500</td>\n",
       "    </tr>\n",
       "    <tr>\n",
       "      <th>50%</th>\n",
       "      <td>36.000000</td>\n",
       "      <td>88.000000</td>\n",
       "      <td>42.215000</td>\n",
       "    </tr>\n",
       "    <tr>\n",
       "      <th>75%</th>\n",
       "      <td>75.000000</td>\n",
       "      <td>172.000000</td>\n",
       "      <td>54.760000</td>\n",
       "    </tr>\n",
       "    <tr>\n",
       "      <th>max</th>\n",
       "      <td>598.000000</td>\n",
       "      <td>1079.000000</td>\n",
       "      <td>100.000000</td>\n",
       "    </tr>\n",
       "  </tbody>\n",
       "</table>\n",
       "</div>"
      ],
      "text/plain": [
       "             delay        total   percentage\n",
       "count  4190.000000  4190.000000  4190.000000\n",
       "mean     57.342005   128.730072    44.469554\n",
       "std      60.504864   127.851366    18.168777\n",
       "min       0.000000     1.000000     0.000000\n",
       "25%      19.000000    48.000000    32.182500\n",
       "50%      36.000000    88.000000    42.215000\n",
       "75%      75.000000   172.000000    54.760000\n",
       "max     598.000000  1079.000000   100.000000"
      ]
     },
     "execution_count": 19,
     "metadata": {},
     "output_type": "execute_result"
    }
   ],
   "source": [
    "#5 Key Metrics\n",
    "lane_df.describe()"
   ]
  },
  {
   "cell_type": "markdown",
   "id": "33da36e1-e81d-4395-8415-04c31020e49e",
   "metadata": {},
   "source": [
    "**INSIGHT:**\n",
    "\n",
    "In total there are 4190 directonal lanes. 50 % of the lanes have a frequency of 88 or less. There are 221 lanes which have more than 1 flight per day, and 26 with more than 2 flights per day."
   ]
  },
  {
   "cell_type": "code",
   "execution_count": 20,
   "id": "69fa29f6-af8d-4c37-a495-07470fa23055",
   "metadata": {},
   "outputs": [
    {
     "data": {
      "image/png": "[encoded data removed]",
      "text/plain": [
       "<Figure size 720x576 with 1 Axes>"
      ]
     },
     "metadata": {
      "needs_background": "light"
     },
     "output_type": "display_data"
    }
   ],
   "source": [
    "### Diagram for the top 20 most flown lanes, sorted by total amount of flights ###\n",
    "top_20 = lane_df.sort_values(by=\"total\", ascending=False)[:20]\n",
    "\n",
    "plt.figure(figsize=(10, 8), layout='tight')\n",
    "base_color = sns.color_palette()[0]\n",
    "d = sns.barplot(\n",
    "    y=top_20.index,\n",
    "    x=\"percentage\",\n",
    "    data=top_20,\n",
    "    color=base_color,\n",
    "    order=top_20.index,\n",
    "    orient=\"h\",\n",
    ")\n",
    "\n",
    "locs, labels = plt.yticks()\n",
    "\n",
    "for loc, label in zip(locs, labels):\n",
    "    total_flights = top_20.loc[label.get_text(), \"total\"]\n",
    "\n",
    "    plt.text(\n",
    "        x=0.4,\n",
    "        y=loc,\n",
    "        s=f\"Total flights {total_flights}\",\n",
    "        va=\"center\",\n",
    "        color=\"white\",\n",
    "        fontweight=650,\n",
    "    )\n",
    "\n",
    "d.set_ylabel(\"lane\")\n",
    "d.set_xlabel(\"delay in %\")\n",
    "d.set_title(\"Procentual delay top 20 most flown lanes directional\");\n",
    "\n",
    "plt.savefig(\"picture/lanes_directional.png\", dpi=360)"
   ]
  },
  {
   "cell_type": "code",
   "execution_count": 21,
   "id": "cabfdf7c-2c2d-43b2-b45f-97c1327d484a",
   "metadata": {
    "tags": []
   },
   "outputs": [
    {
     "data": {
      "text/html": [
       "<div>\n",
       "<style scoped>\n",
       "    .dataframe tbody tr th:only-of-type {\n",
       "        vertical-align: middle;\n",
       "    }\n",
       "\n",
       "    .dataframe tbody tr th {\n",
       "        vertical-align: top;\n",
       "    }\n",
       "\n",
       "    .dataframe thead th {\n",
       "        text-align: right;\n",
       "    }\n",
       "</style>\n",
       "<table border=\"1\" class=\"dataframe\">\n",
       "  <thead>\n",
       "    <tr style=\"text-align: right;\">\n",
       "      <th></th>\n",
       "      <th>delay</th>\n",
       "      <th>total</th>\n",
       "      <th>percentage</th>\n",
       "    </tr>\n",
       "  </thead>\n",
       "  <tbody>\n",
       "    <tr>\n",
       "      <th>count</th>\n",
       "      <td>4190.000000</td>\n",
       "      <td>4190.000000</td>\n",
       "      <td>4190.000000</td>\n",
       "    </tr>\n",
       "    <tr>\n",
       "      <th>mean</th>\n",
       "      <td>57.342005</td>\n",
       "      <td>128.730072</td>\n",
       "      <td>44.469554</td>\n",
       "    </tr>\n",
       "    <tr>\n",
       "      <th>std</th>\n",
       "      <td>60.504864</td>\n",
       "      <td>127.851366</td>\n",
       "      <td>18.168777</td>\n",
       "    </tr>\n",
       "    <tr>\n",
       "      <th>min</th>\n",
       "      <td>0.000000</td>\n",
       "      <td>1.000000</td>\n",
       "      <td>0.000000</td>\n",
       "    </tr>\n",
       "    <tr>\n",
       "      <th>25%</th>\n",
       "      <td>19.000000</td>\n",
       "      <td>48.000000</td>\n",
       "      <td>32.182500</td>\n",
       "    </tr>\n",
       "    <tr>\n",
       "      <th>50%</th>\n",
       "      <td>36.000000</td>\n",
       "      <td>88.000000</td>\n",
       "      <td>42.215000</td>\n",
       "    </tr>\n",
       "    <tr>\n",
       "      <th>75%</th>\n",
       "      <td>75.000000</td>\n",
       "      <td>172.000000</td>\n",
       "      <td>54.760000</td>\n",
       "    </tr>\n",
       "    <tr>\n",
       "      <th>max</th>\n",
       "      <td>598.000000</td>\n",
       "      <td>1079.000000</td>\n",
       "      <td>100.000000</td>\n",
       "    </tr>\n",
       "  </tbody>\n",
       "</table>\n",
       "</div>"
      ],
      "text/plain": [
       "             delay        total   percentage\n",
       "count  4190.000000  4190.000000  4190.000000\n",
       "mean     57.342005   128.730072    44.469554\n",
       "std      60.504864   127.851366    18.168777\n",
       "min       0.000000     1.000000     0.000000\n",
       "25%      19.000000    48.000000    32.182500\n",
       "50%      36.000000    88.000000    42.215000\n",
       "75%      75.000000   172.000000    54.760000\n",
       "max     598.000000  1079.000000   100.000000"
      ]
     },
     "execution_count": 21,
     "metadata": {},
     "output_type": "execute_result"
    }
   ],
   "source": [
    "lane_df.describe()"
   ]
  },
  {
   "cell_type": "code",
   "execution_count": 22,
   "id": "59719398-5a62-43c4-83b1-b80204aa251a",
   "metadata": {},
   "outputs": [
    {
     "data": {
      "text/html": [
       "<div>\n",
       "<style scoped>\n",
       "    .dataframe tbody tr th:only-of-type {\n",
       "        vertical-align: middle;\n",
       "    }\n",
       "\n",
       "    .dataframe tbody tr th {\n",
       "        vertical-align: top;\n",
       "    }\n",
       "\n",
       "    .dataframe thead th {\n",
       "        text-align: right;\n",
       "    }\n",
       "</style>\n",
       "<table border=\"1\" class=\"dataframe\">\n",
       "  <thead>\n",
       "    <tr style=\"text-align: right;\">\n",
       "      <th></th>\n",
       "      <th>delay</th>\n",
       "      <th>total</th>\n",
       "      <th>percentage</th>\n",
       "    </tr>\n",
       "  </thead>\n",
       "  <tbody>\n",
       "    <tr>\n",
       "      <th>count</th>\n",
       "      <td>20.000000</td>\n",
       "      <td>20.000000</td>\n",
       "      <td>20.000000</td>\n",
       "    </tr>\n",
       "    <tr>\n",
       "      <th>mean</th>\n",
       "      <td>337.450000</td>\n",
       "      <td>888.900000</td>\n",
       "      <td>37.348000</td>\n",
       "    </tr>\n",
       "    <tr>\n",
       "      <th>std</th>\n",
       "      <td>122.695805</td>\n",
       "      <td>90.942955</td>\n",
       "      <td>10.717184</td>\n",
       "    </tr>\n",
       "    <tr>\n",
       "      <th>min</th>\n",
       "      <td>151.000000</td>\n",
       "      <td>781.000000</td>\n",
       "      <td>18.990000</td>\n",
       "    </tr>\n",
       "    <tr>\n",
       "      <th>25%</th>\n",
       "      <td>257.250000</td>\n",
       "      <td>812.000000</td>\n",
       "      <td>28.540000</td>\n",
       "    </tr>\n",
       "    <tr>\n",
       "      <th>50%</th>\n",
       "      <td>322.500000</td>\n",
       "      <td>894.500000</td>\n",
       "      <td>37.545000</td>\n",
       "    </tr>\n",
       "    <tr>\n",
       "      <th>75%</th>\n",
       "      <td>393.750000</td>\n",
       "      <td>935.000000</td>\n",
       "      <td>45.052500</td>\n",
       "    </tr>\n",
       "    <tr>\n",
       "      <th>max</th>\n",
       "      <td>598.000000</td>\n",
       "      <td>1079.000000</td>\n",
       "      <td>55.420000</td>\n",
       "    </tr>\n",
       "  </tbody>\n",
       "</table>\n",
       "</div>"
      ],
      "text/plain": [
       "            delay        total  percentage\n",
       "count   20.000000    20.000000   20.000000\n",
       "mean   337.450000   888.900000   37.348000\n",
       "std    122.695805    90.942955   10.717184\n",
       "min    151.000000   781.000000   18.990000\n",
       "25%    257.250000   812.000000   28.540000\n",
       "50%    322.500000   894.500000   37.545000\n",
       "75%    393.750000   935.000000   45.052500\n",
       "max    598.000000  1079.000000   55.420000"
      ]
     },
     "execution_count": 22,
     "metadata": {},
     "output_type": "execute_result"
    }
   ],
   "source": [
    "top_20.describe()"
   ]
  },
  {
   "cell_type": "markdown",
   "id": "4b1e3c71-7671-439a-acf4-c46480b70d1b",
   "metadata": {},
   "source": [
    "**INSIGHT:**\n",
    "\n",
    "The average delay above all 4190 directional lanes is 44.5%.This means for every lane every second flight is delayed. If you observe the Top 20 most used lanes the average flight delay reduces by 4 procent points. If you fly from LAX to SFO you have a 2 percent higher chance to be delayed than if you fly from SFO to LAX."
   ]
  },
  {
   "cell_type": "code",
   "execution_count": 23,
   "id": "43ad1aa2-c616-4d28-8a4e-4e29bc95303a",
   "metadata": {
    "tags": []
   },
   "outputs": [],
   "source": [
    "#creates a new Dataframe, where each lane in both directions only exists once\n",
    "# LAX-SFO and SFO-LAX are the same lane\n",
    "\n",
    "def compare_lanes(df):\n",
    "    delete_list = []\n",
    "    for index_zeile, row in df.iterrows():\n",
    "        if index_zeile in df.index:\n",
    "            for i in range(len(df)):\n",
    "                if (set(index_zeile.split('-')) == set(df.index[i].split('-'))) and (index_zeile.split('-') != df.index[i].split('-')):\n",
    "                    #print(\"index_zeile:,\",index_zeile, \"zu löschendes:\", df.iloc[i].name)\n",
    "                    df.loc[index_zeile,\"delay\"] += df.iloc[i][\"delay\"]\n",
    "                    df.loc[index_zeile,\"total\"] += df.iloc[i][\"total\"]\n",
    "                    df.drop(df.iloc[i].name, axis=0, inplace=True)\n",
    "                    #delete_list.append(df.iloc[i].name)\n",
    "                    break\n",
    "    return df"
   ]
  },
  {
   "cell_type": "code",
   "execution_count": 24,
   "id": "b78188fb-0db5-48aa-b077-ae4133aaa9b7",
   "metadata": {},
   "outputs": [
    {
     "data": {
      "text/html": [
       "<div>\n",
       "<style scoped>\n",
       "    .dataframe tbody tr th:only-of-type {\n",
       "        vertical-align: middle;\n",
       "    }\n",
       "\n",
       "    .dataframe tbody tr th {\n",
       "        vertical-align: top;\n",
       "    }\n",
       "\n",
       "    .dataframe thead th {\n",
       "        text-align: right;\n",
       "    }\n",
       "</style>\n",
       "<table border=\"1\" class=\"dataframe\">\n",
       "  <thead>\n",
       "    <tr style=\"text-align: right;\">\n",
       "      <th></th>\n",
       "      <th>delay</th>\n",
       "      <th>total</th>\n",
       "      <th>percentage</th>\n",
       "    </tr>\n",
       "    <tr>\n",
       "      <th>lane</th>\n",
       "      <th></th>\n",
       "      <th></th>\n",
       "      <th></th>\n",
       "    </tr>\n",
       "  </thead>\n",
       "  <tbody>\n",
       "    <tr>\n",
       "      <th>ABE-ATL</th>\n",
       "      <td>24</td>\n",
       "      <td>62</td>\n",
       "      <td>38.71</td>\n",
       "    </tr>\n",
       "    <tr>\n",
       "      <th>ABE-CLT</th>\n",
       "      <td>11</td>\n",
       "      <td>62</td>\n",
       "      <td>17.74</td>\n",
       "    </tr>\n",
       "    <tr>\n",
       "      <th>ABE-DTW</th>\n",
       "      <td>83</td>\n",
       "      <td>170</td>\n",
       "      <td>48.82</td>\n",
       "    </tr>\n",
       "    <tr>\n",
       "      <th>ABE-FLL</th>\n",
       "      <td>5</td>\n",
       "      <td>34</td>\n",
       "      <td>14.71</td>\n",
       "    </tr>\n",
       "    <tr>\n",
       "      <th>ABE-MCO</th>\n",
       "      <td>20</td>\n",
       "      <td>62</td>\n",
       "      <td>32.26</td>\n",
       "    </tr>\n",
       "  </tbody>\n",
       "</table>\n",
       "</div>"
      ],
      "text/plain": [
       "         delay  total  percentage\n",
       "lane                             \n",
       "ABE-ATL     24     62       38.71\n",
       "ABE-CLT     11     62       17.74\n",
       "ABE-DTW     83    170       48.82\n",
       "ABE-FLL      5     34       14.71\n",
       "ABE-MCO     20     62       32.26"
      ]
     },
     "execution_count": 24,
     "metadata": {},
     "output_type": "execute_result"
    }
   ],
   "source": [
    "\"\"\"\n",
    "Creating a new dataframe with the name unique_lane_df, which groups the lanes if they go in both directions\n",
    "LAX-SFO and SFO-LAX to one unique lane and adds up the amount of delays and the total number of flights\n",
    "\"\"\"\n",
    "unique_lane_df = df_flights_clean.groupby(\"lane\").sum()\n",
    "unique_lane_df[\"total\"] = df_flights_clean.groupby(\"lane\").delay.count()\n",
    "unique_lane_df.drop([\"flight\", \"dayofweek\", \"time\", \"length\"], axis=1, inplace=True)\n",
    "compare_lanes(unique_lane_df)\n",
    "unique_lane_df[\"percentage\"] = np.round((unique_lane_df.delay / unique_lane_df.total) * 100, decimals=2)\n",
    "unique_lane_df.head()"
   ]
  },
  {
   "cell_type": "code",
   "execution_count": 25,
   "id": "146e574d-a493-45c7-b836-a97456b21997",
   "metadata": {},
   "outputs": [
    {
     "data": {
      "image/png": "[encoded data removed]",
      "text/plain": [
       "<Figure size 720x576 with 1 Axes>"
      ]
     },
     "metadata": {
      "needs_background": "light"
     },
     "output_type": "display_data"
    }
   ],
   "source": [
    "### Diagram for the top 20 most flown unique lanes, sorted by total amount of flights ###\n",
    "top_20 = unique_lane_df.sort_values(by=\"total\", ascending=False)[:20]\n",
    "\n",
    "plt.figure(figsize=(10, 8), layout='tight')\n",
    "base_color = sns.color_palette()[0]\n",
    "d = sns.barplot(\n",
    "    y=top_20.index,\n",
    "    x=\"percentage\",\n",
    "    data=top_20,\n",
    "    color=base_color,\n",
    "    order=top_20.index,\n",
    "    orient=\"h\",\n",
    ")\n",
    "\n",
    "locs, labels = plt.yticks()\n",
    "\n",
    "for loc, label in zip(locs, labels):\n",
    "    total_flights = top_20.loc[label.get_text(), \"total\"]\n",
    "\n",
    "    plt.text(\n",
    "        x=0.4,\n",
    "        y=loc,\n",
    "        s=f\"Total flights {total_flights}\",\n",
    "        va=\"center\",\n",
    "        color=\"white\",\n",
    "        fontweight=650,\n",
    "    )\n",
    "\n",
    "d.set_ylabel(\"lane\")\n",
    "d.set_xlabel(\"delay in %\")\n",
    "d.set_title(\"Procentual delay top 20 most flown unique lanes\");\n",
    "\n",
    "plt.savefig(\"picture/unique_lanes.png\", dpi=360)"
   ]
  },
  {
   "cell_type": "code",
   "execution_count": 26,
   "id": "ef400fc7-e289-48c2-81bc-f6fa0b885761",
   "metadata": {},
   "outputs": [
    {
     "data": {
      "text/html": [
       "<div>\n",
       "<style scoped>\n",
       "    .dataframe tbody tr th:only-of-type {\n",
       "        vertical-align: middle;\n",
       "    }\n",
       "\n",
       "    .dataframe tbody tr th {\n",
       "        vertical-align: top;\n",
       "    }\n",
       "\n",
       "    .dataframe thead th {\n",
       "        text-align: right;\n",
       "    }\n",
       "</style>\n",
       "<table border=\"1\" class=\"dataframe\">\n",
       "  <thead>\n",
       "    <tr style=\"text-align: right;\">\n",
       "      <th></th>\n",
       "      <th>delay</th>\n",
       "      <th>total</th>\n",
       "      <th>percentage</th>\n",
       "    </tr>\n",
       "  </thead>\n",
       "  <tbody>\n",
       "    <tr>\n",
       "      <th>count</th>\n",
       "      <td>2103.000000</td>\n",
       "      <td>2103.000000</td>\n",
       "      <td>2103.000000</td>\n",
       "    </tr>\n",
       "    <tr>\n",
       "      <th>mean</th>\n",
       "      <td>114.247741</td>\n",
       "      <td>256.480742</td>\n",
       "      <td>44.441060</td>\n",
       "    </tr>\n",
       "    <tr>\n",
       "      <th>std</th>\n",
       "      <td>119.533075</td>\n",
       "      <td>255.617330</td>\n",
       "      <td>16.124132</td>\n",
       "    </tr>\n",
       "    <tr>\n",
       "      <th>min</th>\n",
       "      <td>0.000000</td>\n",
       "      <td>1.000000</td>\n",
       "      <td>0.000000</td>\n",
       "    </tr>\n",
       "    <tr>\n",
       "      <th>25%</th>\n",
       "      <td>38.000000</td>\n",
       "      <td>93.000000</td>\n",
       "      <td>33.535000</td>\n",
       "    </tr>\n",
       "    <tr>\n",
       "      <th>50%</th>\n",
       "      <td>73.000000</td>\n",
       "      <td>174.000000</td>\n",
       "      <td>41.940000</td>\n",
       "    </tr>\n",
       "    <tr>\n",
       "      <th>75%</th>\n",
       "      <td>150.000000</td>\n",
       "      <td>342.000000</td>\n",
       "      <td>53.120000</td>\n",
       "    </tr>\n",
       "    <tr>\n",
       "      <th>max</th>\n",
       "      <td>1170.000000</td>\n",
       "      <td>2156.000000</td>\n",
       "      <td>100.000000</td>\n",
       "    </tr>\n",
       "  </tbody>\n",
       "</table>\n",
       "</div>"
      ],
      "text/plain": [
       "             delay        total   percentage\n",
       "count  2103.000000  2103.000000  2103.000000\n",
       "mean    114.247741   256.480742    44.441060\n",
       "std     119.533075   255.617330    16.124132\n",
       "min       0.000000     1.000000     0.000000\n",
       "25%      38.000000    93.000000    33.535000\n",
       "50%      73.000000   174.000000    41.940000\n",
       "75%     150.000000   342.000000    53.120000\n",
       "max    1170.000000  2156.000000   100.000000"
      ]
     },
     "execution_count": 26,
     "metadata": {},
     "output_type": "execute_result"
    }
   ],
   "source": [
    "unique_lane_df.describe()"
   ]
  },
  {
   "cell_type": "markdown",
   "id": "c2bac906-4272-45cf-81ea-266f234810a3",
   "metadata": {},
   "source": [
    "**INSIGHT:**\n",
    "\n",
    "If you have a look at the unique lanes in total 2103 (unique means SFO-LAX and LAX-SFO are counted as the same) the most flown unique lane Los Angeles (LAX) — San Francesco (SFO) with over 2156 flights has chance of delay of 54.27%. Dallas (DAL) — Houston (HOU) over 66%. But there are also positives examples like the flights between Honolulu (HNL) and Kahului (OGG) which only have a delay percentage of 25%. Probably because of the short flight duration and distance and a less busy airspace."
   ]
  },
  {
   "cell_type": "code",
   "execution_count": 27,
   "id": "102ca639-4034-4440-9df2-8fc8d2840cbb",
   "metadata": {},
   "outputs": [
    {
     "data": {
      "text/plain": [
       "1458"
      ]
     },
     "execution_count": 27,
     "metadata": {},
     "output_type": "execute_result"
    }
   ],
   "source": [
    "len(unique_lane_df[unique_lane_df[\"percentage\"]<50])"
   ]
  },
  {
   "cell_type": "code",
   "execution_count": 28,
   "id": "e3585857-97ad-4bf0-8a05-a852ebfc28e4",
   "metadata": {},
   "outputs": [
    {
     "data": {
      "text/plain": [
       "645"
      ]
     },
     "execution_count": 28,
     "metadata": {},
     "output_type": "execute_result"
    }
   ],
   "source": [
    "len(unique_lane_df[unique_lane_df[\"percentage\"]>=50])"
   ]
  },
  {
   "cell_type": "code",
   "execution_count": 29,
   "id": "31d210c6-d8ea-49d2-a08e-bdcefdf95ff9",
   "metadata": {},
   "outputs": [
    {
     "data": {
      "text/html": [
       "<div>\n",
       "<style scoped>\n",
       "    .dataframe tbody tr th:only-of-type {\n",
       "        vertical-align: middle;\n",
       "    }\n",
       "\n",
       "    .dataframe tbody tr th {\n",
       "        vertical-align: top;\n",
       "    }\n",
       "\n",
       "    .dataframe thead th {\n",
       "        text-align: right;\n",
       "    }\n",
       "</style>\n",
       "<table border=\"1\" class=\"dataframe\">\n",
       "  <thead>\n",
       "    <tr style=\"text-align: right;\">\n",
       "      <th></th>\n",
       "      <th>airline</th>\n",
       "      <th>flight</th>\n",
       "      <th>airportfrom</th>\n",
       "      <th>airportto</th>\n",
       "      <th>dayofweek</th>\n",
       "      <th>time</th>\n",
       "      <th>length</th>\n",
       "      <th>delay</th>\n",
       "      <th>lane</th>\n",
       "      <th>starttime</th>\n",
       "    </tr>\n",
       "    <tr>\n",
       "      <th>id</th>\n",
       "      <th></th>\n",
       "      <th></th>\n",
       "      <th></th>\n",
       "      <th></th>\n",
       "      <th></th>\n",
       "      <th></th>\n",
       "      <th></th>\n",
       "      <th></th>\n",
       "      <th></th>\n",
       "      <th></th>\n",
       "    </tr>\n",
       "  </thead>\n",
       "  <tbody>\n",
       "    <tr>\n",
       "      <th>1</th>\n",
       "      <td>CO</td>\n",
       "      <td>269</td>\n",
       "      <td>SFO</td>\n",
       "      <td>IAH</td>\n",
       "      <td>3</td>\n",
       "      <td>15</td>\n",
       "      <td>205</td>\n",
       "      <td>1</td>\n",
       "      <td>SFO-IAH</td>\n",
       "      <td>00:15:00</td>\n",
       "    </tr>\n",
       "    <tr>\n",
       "      <th>2</th>\n",
       "      <td>US</td>\n",
       "      <td>1558</td>\n",
       "      <td>PHX</td>\n",
       "      <td>CLT</td>\n",
       "      <td>3</td>\n",
       "      <td>15</td>\n",
       "      <td>222</td>\n",
       "      <td>1</td>\n",
       "      <td>PHX-CLT</td>\n",
       "      <td>00:15:00</td>\n",
       "    </tr>\n",
       "    <tr>\n",
       "      <th>3</th>\n",
       "      <td>AA</td>\n",
       "      <td>2400</td>\n",
       "      <td>LAX</td>\n",
       "      <td>DFW</td>\n",
       "      <td>3</td>\n",
       "      <td>20</td>\n",
       "      <td>165</td>\n",
       "      <td>1</td>\n",
       "      <td>LAX-DFW</td>\n",
       "      <td>00:20:00</td>\n",
       "    </tr>\n",
       "    <tr>\n",
       "      <th>4</th>\n",
       "      <td>AA</td>\n",
       "      <td>2466</td>\n",
       "      <td>SFO</td>\n",
       "      <td>DFW</td>\n",
       "      <td>3</td>\n",
       "      <td>20</td>\n",
       "      <td>195</td>\n",
       "      <td>1</td>\n",
       "      <td>SFO-DFW</td>\n",
       "      <td>00:20:00</td>\n",
       "    </tr>\n",
       "    <tr>\n",
       "      <th>5</th>\n",
       "      <td>AS</td>\n",
       "      <td>108</td>\n",
       "      <td>ANC</td>\n",
       "      <td>SEA</td>\n",
       "      <td>3</td>\n",
       "      <td>30</td>\n",
       "      <td>202</td>\n",
       "      <td>0</td>\n",
       "      <td>ANC-SEA</td>\n",
       "      <td>00:30:00</td>\n",
       "    </tr>\n",
       "  </tbody>\n",
       "</table>\n",
       "</div>"
      ],
      "text/plain": [
       "   airline  flight airportfrom airportto  dayofweek  time  length  delay  \\\n",
       "id                                                                         \n",
       "1       CO     269         SFO       IAH          3    15     205      1   \n",
       "2       US    1558         PHX       CLT          3    15     222      1   \n",
       "3       AA    2400         LAX       DFW          3    20     165      1   \n",
       "4       AA    2466         SFO       DFW          3    20     195      1   \n",
       "5       AS     108         ANC       SEA          3    30     202      0   \n",
       "\n",
       "       lane starttime  \n",
       "id                     \n",
       "1   SFO-IAH  00:15:00  \n",
       "2   PHX-CLT  00:15:00  \n",
       "3   LAX-DFW  00:20:00  \n",
       "4   SFO-DFW  00:20:00  \n",
       "5   ANC-SEA  00:30:00  "
      ]
     },
     "execution_count": 29,
     "metadata": {},
     "output_type": "execute_result"
    }
   ],
   "source": [
    "df_flights_clean.head()"
   ]
  },
  {
   "cell_type": "markdown",
   "id": "ccdc445c-4af5-42cc-bb1c-7a141f8f08f3",
   "metadata": {},
   "source": [
    "## 3. Which flight haul types do have the most delays?"
   ]
  },
  {
   "cell_type": "markdown",
   "id": "c43219d9-8928-4cc6-9968-6ad1d33733fc",
   "metadata": {},
   "source": [
    "According to the IATA (International Air Transport Association) there are different categories of flight durations also called Flight haul types:\n",
    "\n",
    "- **short-haul:** < 3 hours      \n",
    "- **medium-haul:** 3 - 6 hours     \n",
    "- **long-haul:** 6 - 16 hours    \n",
    "- **ultra-long-haul:** > 16 hours    \n"
   ]
  },
  {
   "cell_type": "code",
   "execution_count": 30,
   "id": "4ef48bbc-42c4-4798-a174-8fab632b82fa",
   "metadata": {},
   "outputs": [],
   "source": [
    "#Creating a new column to use the column length and categorise the haul types\n",
    "df_flights_clean.loc[df_flights_clean.length < 180,\"haul_type\"] = 's'\n",
    "df_flights_clean.loc[(df_flights_clean['length'] >= 180) & (df_flights_clean['length'] < 360) ,\"haul_type\"] = 'm'\n",
    "df_flights_clean.loc[(df_flights_clean['length'] >= 360) & (df_flights_clean['length'] < 960) ,\"haul_type\"] = 'l'\n",
    "df_flights_clean.loc[df_flights_clean.length >= 960,\"haul_type\"] = 'xl'\n",
    "\n",
    "\n",
    "#parse column as categorical to be faster in progressing later\n",
    "df_flights_clean['haul_type']=pd.Categorical(df_flights_clean['haul_type'])"
   ]
  },
  {
   "cell_type": "code",
   "execution_count": 31,
   "id": "901657bf-44fa-4409-bd01-172d1268b2d7",
   "metadata": {},
   "outputs": [],
   "source": [
    "haul_df = df_flights_clean.groupby(\"haul_type\").sum()\n",
    "haul_df['total'] = df_flights_clean.groupby('haul_type').delay.count()\n",
    "haul_df.drop([\"flight\", \"dayofweek\", \"time\", \"length\"], axis=1, inplace=True)\n",
    "haul_df[\"percentage\"] = np.round((haul_df.delay / haul_df.total) * 100, decimals=2)"
   ]
  },
  {
   "cell_type": "code",
   "execution_count": 32,
   "id": "449be580-83e3-4f55-a650-4d38f2ed413d",
   "metadata": {},
   "outputs": [
    {
     "data": {
      "text/html": [
       "<div>\n",
       "<style scoped>\n",
       "    .dataframe tbody tr th:only-of-type {\n",
       "        vertical-align: middle;\n",
       "    }\n",
       "\n",
       "    .dataframe tbody tr th {\n",
       "        vertical-align: top;\n",
       "    }\n",
       "\n",
       "    .dataframe thead th {\n",
       "        text-align: right;\n",
       "    }\n",
       "</style>\n",
       "<table border=\"1\" class=\"dataframe\">\n",
       "  <thead>\n",
       "    <tr style=\"text-align: right;\">\n",
       "      <th></th>\n",
       "      <th>delay</th>\n",
       "      <th>total</th>\n",
       "      <th>percentage</th>\n",
       "    </tr>\n",
       "    <tr>\n",
       "      <th>haul_type</th>\n",
       "      <th></th>\n",
       "      <th></th>\n",
       "      <th></th>\n",
       "    </tr>\n",
       "  </thead>\n",
       "  <tbody>\n",
       "    <tr>\n",
       "      <th>l</th>\n",
       "      <td>3090</td>\n",
       "      <td>6782</td>\n",
       "      <td>45.56</td>\n",
       "    </tr>\n",
       "    <tr>\n",
       "      <th>m</th>\n",
       "      <td>46756</td>\n",
       "      <td>93619</td>\n",
       "      <td>49.94</td>\n",
       "    </tr>\n",
       "    <tr>\n",
       "      <th>s</th>\n",
       "      <td>190417</td>\n",
       "      <td>438978</td>\n",
       "      <td>43.38</td>\n",
       "    </tr>\n",
       "  </tbody>\n",
       "</table>\n",
       "</div>"
      ],
      "text/plain": [
       "            delay   total  percentage\n",
       "haul_type                            \n",
       "l            3090    6782       45.56\n",
       "m           46756   93619       49.94\n",
       "s          190417  438978       43.38"
      ]
     },
     "execution_count": 32,
     "metadata": {},
     "output_type": "execute_result"
    }
   ],
   "source": [
    "haul_df"
   ]
  },
  {
   "cell_type": "code",
   "execution_count": 33,
   "id": "709a37db-c276-4619-a446-2408fd75a563",
   "metadata": {},
   "outputs": [],
   "source": [
    "# Writing a fuction to create the percentage of the different haul types\n",
    "\n",
    "def percentage_blocks (df, var):\n",
    "    \n",
    "    percentages = 100 * df[var] / df[var].sum()\n",
    "    counts = np.floor(percentages).astype(int)\n",
    "    decimal = (percentages - counts).sort_values(ascending=False)\n",
    "    \n",
    "    rem = 100 - counts.sum()\n",
    "    for cat in decimal.index[:rem]:\n",
    "        counts[cat] += 1\n",
    "        \n",
    "    return counts"
   ]
  },
  {
   "cell_type": "code",
   "execution_count": 34,
   "id": "61b8ef58-1018-49a4-b0b9-c5612bfc51f0",
   "metadata": {},
   "outputs": [
    {
     "data": {
      "image/png": "[encoded data removed]",
      "text/plain": [
       "<Figure size 432x288 with 1 Axes>"
      ]
     },
     "metadata": {
      "needs_background": "light"
     },
     "output_type": "display_data"
    }
   ],
   "source": [
    "#Creating the waffle plot\n",
    "\n",
    "column = 'delay'\n",
    "waffle_counts = percentage_blocks(haul_df, column)\n",
    "\n",
    "prev_count = 0\n",
    "\n",
    "for cat in range(0,waffle_counts.shape[0]):\n",
    "    blocks = np.arange(prev_count, prev_count + waffle_counts[cat], 1)\n",
    "    \n",
    "    x = blocks % 10\n",
    "    \n",
    "    y= blocks // 10\n",
    "    \n",
    "    plt.bar(x=x, height=0.8, width=0.8, bottom = y)\n",
    "    prev_count += waffle_counts[cat]\n",
    "\n",
    "\n",
    "plt.legend(waffle_counts.index.sort_values(), bbox_to_anchor=(0.97, 0.93))\n",
    "plt.axis('off')\n",
    "plt.title('What is the percentage of the delays of different haul types?')\n",
    "plt.axis('square')\n",
    "\n",
    "\n",
    "plt.savefig(\"picture/waffle_haul_types.png\", dpi=360)"
   ]
  },
  {
   "cell_type": "markdown",
   "id": "99fe86ed-575c-42d3-856c-c131f7c2f949",
   "metadata": {},
   "source": [
    "**INSIGHT:**\n",
    "\n",
    "When categorising the data into the different haul_types  \n",
    "- **short haul:** less than 3 hours    \n",
    "- **medium haul:** 3 - 6 hours    \n",
    "- **long haul:** 6 - 16 hours    \n",
    "- **ultra-long haul:** more than 16 hours   \n",
    "\n",
    "Only 1,2% of the flights that are delayed are long haul flights between 6-16 hours. 10% are medium haul flights between 3 and 6 hours. The majority (89%) are short haul flights less than 3 hours. There are no delayed ultra-long haul flights in this dataset. 43% of the short haul flights are delayed. 50% of the medium haul flights and 46% of the long haul flights. On the first view it seems like there are no correlation between the haul_type and delay."
   ]
  },
  {
   "cell_type": "markdown",
   "id": "41997e80-ca71-4574-aad7-892812ac9f46",
   "metadata": {},
   "source": [
    "## 4. Which airports are causing the most delays?"
   ]
  },
  {
   "cell_type": "code",
   "execution_count": 35,
   "id": "efc599da-46a0-4380-b209-1f353b82b60f",
   "metadata": {},
   "outputs": [],
   "source": [
    "#created new df to group by departure Airports\n",
    "fromAirports_df = df_flights_clean.groupby(\"airportfrom\").sum()\n",
    "fromAirports_df[\"total\"] = df_flights_clean.groupby(\"airportfrom\").delay.count()\n",
    "fromAirports_df.drop([\"flight\", \"dayofweek\", \"time\", \"length\"], axis=1, inplace=True)\n",
    "fromAirports_df[\"percentage\"] = np.round((fromAirports_df.delay / fromAirports_df.total) * 100, decimals=2)"
   ]
  },
  {
   "cell_type": "code",
   "execution_count": 36,
   "id": "af13bb2c-96e8-420b-82bf-ceebc3791318",
   "metadata": {},
   "outputs": [],
   "source": [
    "#created new df to group by departure Airports\n",
    "toAirports_df = df_flights_clean.groupby(\"airportto\").sum()\n",
    "toAirports_df[\"total\"] = df_flights_clean.groupby(\"airportto\").delay.count()\n",
    "toAirports_df.drop([\"flight\", \"dayofweek\", \"time\", \"length\"], axis=1, inplace=True)\n",
    "toAirports_df[\"percentage\"] = np.round((toAirports_df.delay / toAirports_df.total) * 100, decimals=2)"
   ]
  },
  {
   "cell_type": "code",
   "execution_count": 37,
   "id": "205c1292-49de-4ff7-9f9b-37016f6c9e22",
   "metadata": {},
   "outputs": [
    {
     "data": {
      "image/png": "[encoded data removed]",
      "text/plain": [
       "<Figure size 1440x576 with 2 Axes>"
      ]
     },
     "metadata": {
      "needs_background": "light"
     },
     "output_type": "display_data"
    }
   ],
   "source": [
    "### Direct comparison between departure and arrival airports\n",
    "\n",
    "d, axs = plt.subplots(nrows=1, ncols=2, figsize=(20,8), layout='tight')\n",
    "\n",
    "\n",
    "### Diagram for the top 20 most delayed departure airports, sorted by total amount of flights ###\n",
    "top_20 = fromAirports_df.sort_values(by=\"total\", ascending=False)[:20]\n",
    "plt.subplot(1,2,1)\n",
    "d = sns.barplot(\n",
    "    y=top_20.index,\n",
    "    x=\"percentage\",\n",
    "    data=top_20,\n",
    "    color=base_color,\n",
    "    order=top_20.index,\n",
    "    orient=\"h\",\n",
    ")\n",
    "locs, labels = plt.yticks()\n",
    "\n",
    "### Annotation of total flights\n",
    "for loc, label in zip(locs, labels):\n",
    "    total_flights = top_20.loc[label.get_text(), \"total\"]\n",
    "\n",
    "    plt.text(\n",
    "        x=13.5,\n",
    "        y=loc,\n",
    "        s=f\"{total_flights} departures\",\n",
    "        va=\"center\",\n",
    "        color=\"white\",\n",
    "        fontweight=650,\n",
    "        fontsize=\"large\"\n",
    "    )\n",
    "\n",
    "### Annotation of the percentage\n",
    "for loc, label in zip(locs, labels):\n",
    "    plt.text(\n",
    "        x=top_20.iloc[loc,2]+3,\n",
    "        y=loc,\n",
    "        s=f\"{int(top_20.iloc[loc,2])}%\",\n",
    "        va=\"center\",\n",
    "        color=\"black\",\n",
    "        fontsize=\"large\"\n",
    "    )\n",
    "    \n",
    "plt.xlabel(\"delay in %\",fontsize=16)\n",
    "d.xaxis.set_ticks(np.arange(0, 70, 5))\n",
    "d.invert_xaxis()\n",
    "d.yaxis.tick_right()\n",
    "plt.ylabel(\"\",fontsize=16)\n",
    "plt.xticks(fontsize=12)\n",
    "plt.yticks(fontsize=12)\n",
    "d.set_title(\"Procentual delay top 20 departure airports\", fontsize=16)\n",
    "\n",
    "### Diagram for the top 20 most delayed arrival airports, sorted by total amount of flights ###\n",
    "plt.subplot(1,2,2)\n",
    "top_20 = toAirports_df.sort_values(by=\"total\", ascending=False)[:20]\n",
    "d = sns.barplot(\n",
    "    y=top_20.index,\n",
    "    x=\"percentage\",\n",
    "    data=top_20,\n",
    "    color=base_color,\n",
    "    order=top_20.index,\n",
    "    orient=\"h\",\n",
    ")\n",
    "\n",
    "locs, labels = plt.yticks()\n",
    "\n",
    "### Annotation of total flights\n",
    "for loc, label in zip(locs, labels):\n",
    "    total_flights = top_20.loc[label.get_text(), \"total\"]\n",
    "\n",
    "    plt.text(\n",
    "        x=0.5,\n",
    "        y=loc,\n",
    "        s=f\"{total_flights} arrivals\",\n",
    "        va=\"center\",\n",
    "        color=\"white\",\n",
    "        fontweight=650,\n",
    "        fontsize=\"large\"\n",
    "    )\n",
    "    \n",
    "### Annotation of the percentage    \n",
    "for loc, label in zip(locs, labels):\n",
    "    plt.text(\n",
    "        x=top_20.iloc[loc,2]+0.25,\n",
    "        y=loc,\n",
    "        s=f\"{int(top_20.iloc[loc,2])}%\",\n",
    "        va=\"center\",\n",
    "        color=\"black\",\n",
    "        fontsize=\"large\"\n",
    "    )\n",
    "\n",
    "plt.xlabel(\"delay in %\",fontsize=16)\n",
    "d.xaxis.set_ticks(np.arange(0, 70, 5))\n",
    "plt.ylabel(\"\",fontsize=16)\n",
    "plt.xticks(fontsize=12)\n",
    "plt.yticks(fontsize=12)\n",
    "d.set_title(\"Procentual delay top 20 arrival airports\", fontsize=16)\n",
    "\n",
    "\n",
    "plt.savefig(\"picture/airports.png\", dpi=360)"
   ]
  },
  {
   "cell_type": "code",
   "execution_count": 38,
   "id": "c27237c1-18da-45fe-a348-eeb716f58c0d",
   "metadata": {},
   "outputs": [
    {
     "name": "stdout",
     "output_type": "stream",
     "text": [
      "Amount of departure airports where the chance of delay is bigger 50% : 32\n",
      "Amount of departure airports where the chance of delay is bigger 50% : 71\n"
     ]
    }
   ],
   "source": [
    "print(\"Amount of departure airports where the chance of delay is bigger 50% :\",len(fromAirports_df[fromAirports_df[\"percentage\"]>=50.0]))\n",
    "print(\"Amount of departure airports where the chance of delay is bigger 50% :\",len(toAirports_df[toAirports_df[\"percentage\"]>=50.0]))"
   ]
  },
  {
   "cell_type": "code",
   "execution_count": 39,
   "id": "9b28d67c-bdf4-4bc9-92a7-dbe6ab2ede63",
   "metadata": {},
   "outputs": [
    {
     "data": {
      "text/html": [
       "<div>\n",
       "<style scoped>\n",
       "    .dataframe tbody tr th:only-of-type {\n",
       "        vertical-align: middle;\n",
       "    }\n",
       "\n",
       "    .dataframe tbody tr th {\n",
       "        vertical-align: top;\n",
       "    }\n",
       "\n",
       "    .dataframe thead th {\n",
       "        text-align: right;\n",
       "    }\n",
       "</style>\n",
       "<table border=\"1\" class=\"dataframe\">\n",
       "  <thead>\n",
       "    <tr style=\"text-align: right;\">\n",
       "      <th></th>\n",
       "      <th>delay</th>\n",
       "      <th>total</th>\n",
       "      <th>percentage</th>\n",
       "    </tr>\n",
       "    <tr>\n",
       "      <th>airportfrom</th>\n",
       "      <th></th>\n",
       "      <th></th>\n",
       "      <th></th>\n",
       "    </tr>\n",
       "  </thead>\n",
       "  <tbody>\n",
       "    <tr>\n",
       "      <th>MDW</th>\n",
       "      <td>5222</td>\n",
       "      <td>7103</td>\n",
       "      <td>73.52</td>\n",
       "    </tr>\n",
       "    <tr>\n",
       "      <th>DAL</th>\n",
       "      <td>2748</td>\n",
       "      <td>3838</td>\n",
       "      <td>71.60</td>\n",
       "    </tr>\n",
       "    <tr>\n",
       "      <th>OAK</th>\n",
       "      <td>2697</td>\n",
       "      <td>3783</td>\n",
       "      <td>71.29</td>\n",
       "    </tr>\n",
       "    <tr>\n",
       "      <th>HOU</th>\n",
       "      <td>2949</td>\n",
       "      <td>4420</td>\n",
       "      <td>66.72</td>\n",
       "    </tr>\n",
       "    <tr>\n",
       "      <th>OTH</th>\n",
       "      <td>59</td>\n",
       "      <td>93</td>\n",
       "      <td>63.44</td>\n",
       "    </tr>\n",
       "    <tr>\n",
       "      <th>...</th>\n",
       "      <td>...</td>\n",
       "      <td>...</td>\n",
       "      <td>...</td>\n",
       "    </tr>\n",
       "    <tr>\n",
       "      <th>TEX</th>\n",
       "      <td>4</td>\n",
       "      <td>27</td>\n",
       "      <td>14.81</td>\n",
       "    </tr>\n",
       "    <tr>\n",
       "      <th>GTR</th>\n",
       "      <td>9</td>\n",
       "      <td>61</td>\n",
       "      <td>14.75</td>\n",
       "    </tr>\n",
       "    <tr>\n",
       "      <th>HTS</th>\n",
       "      <td>7</td>\n",
       "      <td>57</td>\n",
       "      <td>12.28</td>\n",
       "    </tr>\n",
       "    <tr>\n",
       "      <th>FLG</th>\n",
       "      <td>26</td>\n",
       "      <td>219</td>\n",
       "      <td>11.87</td>\n",
       "    </tr>\n",
       "    <tr>\n",
       "      <th>TXK</th>\n",
       "      <td>9</td>\n",
       "      <td>77</td>\n",
       "      <td>11.69</td>\n",
       "    </tr>\n",
       "  </tbody>\n",
       "</table>\n",
       "<p>293 rows × 3 columns</p>\n",
       "</div>"
      ],
      "text/plain": [
       "             delay  total  percentage\n",
       "airportfrom                          \n",
       "MDW           5222   7103       73.52\n",
       "DAL           2748   3838       71.60\n",
       "OAK           2697   3783       71.29\n",
       "HOU           2949   4420       66.72\n",
       "OTH             59     93       63.44\n",
       "...            ...    ...         ...\n",
       "TEX              4     27       14.81\n",
       "GTR              9     61       14.75\n",
       "HTS              7     57       12.28\n",
       "FLG             26    219       11.87\n",
       "TXK              9     77       11.69\n",
       "\n",
       "[293 rows x 3 columns]"
      ]
     },
     "execution_count": 39,
     "metadata": {},
     "output_type": "execute_result"
    }
   ],
   "source": [
    "fromAirports_df.sort_values(by='percentage', ascending=False)"
   ]
  },
  {
   "cell_type": "markdown",
   "id": "1fbcecb5-720f-436d-bdd8-3ee6c3d839fd",
   "metadata": {},
   "source": [
    "**INSIGHT:**\n",
    "\n",
    "Interesting to see is that Top 20 departure airports and arrival airports are the same and in the same order (sorted by total amount of flight departures or arrivals). This is an indicator that they are by far the most used airports in the US. If you depart from Atlanta you have a four percent point higher chance to be delayed than if you would arrive there. In Chicago (ORD) you have a 10 % higher chance to depart late than to arrive late. The same applies for Charlotte. If you arrive in Seattle your chance is 7% higher to arrive late than if you would depart late from there. In total 32 airports have a chance of 50% or higher to depart late. 71 airports have a change of 50% or higher to arrive late.\n"
   ]
  },
  {
   "cell_type": "markdown",
   "id": "758fe37e-e0bd-4d55-9766-e43f9755f1da",
   "metadata": {},
   "source": [
    "# 6. Results"
   ]
  },
  {
   "cell_type": "markdown",
   "id": "2cc4889f-20e2-4597-81d0-699bb8d170d3",
   "metadata": {},
   "source": [
    "After analysing the data and doing some additional research the quality of the data seems to be questionable. It seems that the dataset provided to kaggle is a subset of bigger dataset. An average delay of 44% of all flights seems to be rather high. The Bureau of Transportation Statistics of the United States department of Transportation shows data from 2013 to 2022 [link](https://www.transtats.bts.gov/homedrillchart.asp). On average there is a delay round about 18%. It seems that the data provided on the Kaggle platform is not complete. Hence the analysis can only be interpreted correctly with the two assumptions provided at the beginning of the analysis in mind:\n",
    "\n",
    "A. The data is collected for a specific time period (approximately 1 year)    \n",
    "B. The data is complete and is not a subset of bigger dataset\n"
   ]
  },
  {
   "cell_type": "markdown",
   "id": "b52f178a-f3fb-4349-90dc-c257a6c2a53e",
   "metadata": {},
   "source": [
    "## Further Research Topics\n",
    "\n",
    "1. Is there a relation between the delay from flights from west to east, north to south or any other direction?\n",
    "1. Do specific states within the US have more airports or lanes which have or cause delays?\n",
    "1. Do bigger airports cause more or less delays?\n",
    "1. Is there a correlation between delay and time of the day?\n",
    "1. Can we predict delays if we create more features like the flight haul or size of airports?"
   ]
  }
 ],
 "metadata": {
  "kernelspec": {
   "display_name": "Python 3 (ipykernel)",
   "language": "python",
   "name": "python3"
  },
  "language_info": {
   "codemirror_mode": {
    "name": "ipython",
    "version": 3
   },
   "file_extension": ".py",
   "mimetype": "text/x-python",
   "name": "python",
   "nbconvert_exporter": "python",
   "pygments_lexer": "ipython3",
   "version": "3.9.7"
  }
 },
 "nbformat": 4,
 "nbformat_minor": 5
}
